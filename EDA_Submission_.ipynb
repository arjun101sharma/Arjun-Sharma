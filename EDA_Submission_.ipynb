{
  "nbformat": 4,
  "nbformat_minor": 0,
  "metadata": {
    "colab": {
      "private_outputs": true,
      "provenance": [],
      "collapsed_sections": [
        "gIfDvo9L0UH2"
      ],
      "include_colab_link": true
    },
    "kernelspec": {
      "name": "python3",
      "display_name": "Python 3"
    },
    "language_info": {
      "name": "python"
    }
  },
  "cells": [
    {
      "cell_type": "markdown",
      "metadata": {
        "id": "view-in-github",
        "colab_type": "text"
      },
      "source": [
        "<a href=\"https://colab.research.google.com/github/arjun101sharma/hello-world/blob/main/EDA_Submission_.ipynb\" target=\"_parent\"><img src=\"https://colab.research.google.com/assets/colab-badge.svg\" alt=\"Open In Colab\"/></a>"
      ]
    },
    {
      "cell_type": "markdown",
      "source": [
        "# **Project Name**    - Global Terrorism Dataset."
      ],
      "metadata": {
        "id": "vncDsAP0Gaoa"
      }
    },
    {
      "cell_type": "markdown",
      "source": [
        "##### **Project Type**    - Exploratory Data Analysis.\n",
        "##### **Contribution**    - Individual.\n"
      ],
      "metadata": {
        "id": "beRrZCGUAJYm"
      }
    },
    {
      "cell_type": "markdown",
      "source": [
        "### **Project Summary -**"
      ],
      "metadata": {
        "id": "FJNUwmbgGyua"
      }
    },
    {
      "cell_type": "markdown",
      "source": [
        "Project Summary: Exploratory Data Analysis (EDA) on Global Terrorism Data\n",
        "\n",
        "The Global Terrorism Database (GTD) is a freely accessible repository containing data about acts of terrorism across the globe spanning from 1970 to 2017. It encompasses organized information about both local and global instances of terrorism that have taken place within this timeframe. The GTD's scope now comprises over 180,000 such attacks. This compilation is upheld by scholars at the National Consortium for the Study of Terrorism and Responses to Terrorism (START), based at the University of Maryland.\n",
        "\n",
        "The Global Terrorism Database (GTD) is a comprehensive and widely-used dataset that contains information about terrorist incidents around the world. In this project, we conducted an Exploratory Data Analysis (EDA) on the GTD to gain insights into the patterns, trends, and characteristics of global terrorism over time. Our objective was to extract meaningful information from the dataset and present it in a coherent manner, shedding light on various aspects of terrorism.\n",
        "\n",
        "Data Source and Preprocessing:\n",
        "We obtained the Global Terrorism Database, which includes records spanning several decades, containing details about terrorist attacks such as location, date, attack type, target type, and more. Prior to analysis, we conducted preprocessing tasks to handle missing values, ensure data consistency, and convert categorical variables into a more manageable format for analysis.\n",
        "\n",
        "Temporal Trends:\n",
        "We started by examining the temporal trends of terrorism. By plotting the number of attacks over the years, we observed fluctuations and spikes in certain time periods. Further analysis revealed that while the overall number of attacks exhibited variations, there were certain years and regions that experienced a surge in terrorist activities. This prompted us to investigate the potential reasons behind these spikes.\n",
        "\n",
        "Geographical Patterns:\n",
        "The geographical distribution of terrorist incidents was another key aspect of our analysis. Through visualizations such as heatmaps and choropleth maps, we visualized the regions most affected by terrorism. This allowed us to identify high-risk areas and understand the concentration of attacks in specific regions. Additionally, we explored whether there were any correlations between geopolitical events and terrorist activities in certain regions.\n",
        "\n",
        "Attack Characteristics:\n",
        "We delved into the characteristics of terrorist attacks, examining factors such as attack types, weapon types, and target types. By categorizing and visualizing these attributes, we gained insights into the most common methods used by terrorists and their preferred targets. For instance, we found that bombings and armed assaults were the most prevalent attack types, and civilians and private citizens were frequently targeted.\n",
        "\n",
        "Conclusion:\n",
        "In this project, our Exploratory Data Analysis of the Global Terrorism Database offered valuable insights into the dynamics of global terrorism. Through visualizations and statistical summaries, we highlighted temporal trends, geographical patterns, attack characteristics, and the identities of perpetrators. This information not only contributes to a better understanding of terrorism but also holds the potential to inform policy decisions aimed at mitigating its impact. Furthermore, our analysis underscores the importance of continued data collection and analysis in countering terrorism effectively.\n",
        "\n",
        "In summary, by conducting a comprehensive EDA on the Global Terrorism Database, we uncovered significant trends and patterns that provide a foundation for further in-depth analysis and policy-making in the realm of counterterrorism efforts.\n"
      ],
      "metadata": {
        "id": "F6v_1wHtG2nS"
      }
    },
    {
      "cell_type": "markdown",
      "source": [
        "# **GitHub Link -**"
      ],
      "metadata": {
        "id": "w6K7xa23Elo4"
      }
    },
    {
      "cell_type": "markdown",
      "source": [
        "Provide your GitHub Link here.\n",
        "https://github.com/arjun101sharma/hello-world/tree/main"
      ],
      "metadata": {
        "id": "h1o69JH3Eqqn"
      }
    },
    {
      "cell_type": "markdown",
      "source": [
        "# **Problem Statement**"
      ],
      "metadata": {
        "id": "yQaldy8SH6Dl"
      }
    },
    {
      "cell_type": "markdown",
      "source": [
        "**Write Problem Statement Here.**\n",
        "The problem statement for Exploratory Data Analysis (EDA) of Global Terrorism Data involves examining and analyzing a comprehensive dataset related to terrorist incidents worldwide. The dataset includes information about various aspects of terrorist attacks, such as location, date, type of attack, target, number of casualties, and more. The goal of the EDA is to gain insights, discover patterns, and generate visualizations that can help us better understand the nature and trends of global terrorism."
      ],
      "metadata": {
        "id": "DpeJGUA3kjGy"
      }
    },
    {
      "cell_type": "markdown",
      "source": [
        "# **General Guidelines** : -  "
      ],
      "metadata": {
        "id": "mDgbUHAGgjLW"
      }
    },
    {
      "cell_type": "markdown",
      "source": [
        "1.   Well-structured, formatted, and commented code is required.\n",
        "2.   Exception Handling, Production Grade Code & Deployment Ready Code will be a plus. Those students will be awarded some additional credits.\n",
        "     \n",
        "     The additional credits will have advantages over other students during Star Student selection.\n",
        "       \n",
        "             [ Note: - Deployment Ready Code is defined as, the whole .ipynb notebook should be executable in one go\n",
        "                       without a single error logged. ]\n",
        "\n",
        "3.   Each and every logic should have proper comments.\n",
        "4. You may add as many number of charts you want. Make Sure for each and every chart the following format should be answered.\n",
        "        \n",
        "\n",
        "```\n",
        "# Chart visualization code\n",
        "```\n",
        "            \n",
        "\n",
        "*   Why did you pick the specific chart?\n",
        "*   What is/are the insight(s) found from the chart?\n",
        "* Will the gained insights help creating a positive business impact?\n",
        "Are there any insights that lead to negative growth? Justify with specific reason.\n",
        "\n",
        "5. You have to create at least 20 logical & meaningful charts having important insights.\n",
        "\n",
        "\n",
        "[ Hints : - Do the Vizualization in  a structured way while following \"UBM\" Rule.\n",
        "\n",
        "U - Univariate Analysis,\n",
        "\n",
        "B - Bivariate Analysis (Numerical - Categorical, Numerical - Numerical, Categorical - Categorical)\n",
        "\n",
        "M - Multivariate Analysis\n",
        " ]\n",
        "\n",
        "\n",
        "\n"
      ],
      "metadata": {
        "id": "ZrxVaUj-hHfC"
      }
    },
    {
      "cell_type": "markdown",
      "source": [
        "# ***Let's Begin !***"
      ],
      "metadata": {
        "id": "O_i_v8NEhb9l"
      }
    },
    {
      "cell_type": "markdown",
      "source": [
        "## ***1. Know Your Data***"
      ],
      "metadata": {
        "id": "HhfV-JJviCcP"
      }
    },
    {
      "cell_type": "markdown",
      "source": [
        "### Import Libraries"
      ],
      "metadata": {
        "id": "Y3lxredqlCYt"
      }
    },
    {
      "cell_type": "code",
      "source": [
        "# Import Libraries\n",
        "\n",
        "import pandas as pd\n",
        "import matplotlib.pyplot as plt\n",
        "import matplotlib.patches as mpatches\n",
        "import seaborn as sns\n",
        "import numpy as np\n",
        "plt.style.use('fivethirtyeight')\n",
        "import plotly.offline as py\n",
        "py.init_notebook_mode(connected=True)\n",
        "import plotly.graph_objs as go\n",
        "import plotly.tools as tls\n",
        "import folium\n",
        "import folium.plugins\n",
        "from matplotlib import animation,rc\n",
        "import io\n",
        "import base64\n",
        "from IPython.display import HTML, display\n",
        "import warnings\n",
        "warnings.filterwarnings('ignore')\n",
        "import codecs\n",
        "from subprocess import check_output"
      ],
      "metadata": {
        "id": "M8Vqi-pPk-HR"
      },
      "execution_count": null,
      "outputs": []
    },
    {
      "cell_type": "code",
      "source": [
        "# Install and import the Basemap library for creating maps and visualizing geographical data.\n",
        "# Basemap provides tools to draw maps with various projections, plot data points, and add map features.\n",
        "# Make sure to have the required packages installed using the given pip commands.\n",
        "# Documentation: [link to the Basemap documentation]\n",
        "# Note: As of my last training cut-off in September 2021, Basemap is commonly used, but there might be newer alternatives available.\n",
        "# Ensure you're using the most up-to-date libraries for your projects.\n",
        "\n",
        "\n",
        "!pip install basemap\n",
        "!pip install basemap-data\n",
        "\n",
        "from mpl_toolkits.basemap import Basemap"
      ],
      "metadata": {
        "id": "b2voNtMdpz3K"
      },
      "execution_count": null,
      "outputs": []
    },
    {
      "cell_type": "markdown",
      "source": [
        "### Dataset Loading"
      ],
      "metadata": {
        "id": "3RnN4peoiCZX"
      }
    },
    {
      "cell_type": "code",
      "source": [
        "# This code snippet demonstrates the use of the chardet library to detect the character encoding of a given CSV file.\n",
        "file = \"/content/Global_Terrorism_Data.csv\"\n",
        "import chardet\n",
        "\n",
        "# The file path is specified, and the chardet library is used to analyze the first 100,000 bytes of the file's raw binary data.\n",
        "with open(file, 'rb') as rawdata:\n",
        "    result = chardet.detect(rawdata.read(100000))\n",
        "\n",
        "# The detected character encoding information is then stored in the 'result' variable, which can be used to determine the appropriate encoding for reading the file.\n",
        "result"
      ],
      "metadata": {
        "id": "S1JRSuP8Imsx"
      },
      "execution_count": null,
      "outputs": []
    },
    {
      "cell_type": "code",
      "source": [
        "# Load Dataset\n",
        "terror_df = pd.read_csv(\"/content/Global_Terrorism_Data.csv\", encoding = 'ISO-8859-1')"
      ],
      "metadata": {
        "id": "4CkvbW_SlZ_R"
      },
      "execution_count": null,
      "outputs": []
    },
    {
      "cell_type": "code",
      "source": [
        "# Using the type() function to identify the data type of the variable 'terror_df'.\n",
        "# This helps in understanding the nature of the data stored in 'terror_df'.\n",
        "\n",
        "type(terror_df)"
      ],
      "metadata": {
        "id": "lD9_nB6cc_Yj"
      },
      "execution_count": null,
      "outputs": []
    },
    {
      "cell_type": "markdown",
      "source": [
        "### Dataset First View"
      ],
      "metadata": {
        "id": "x71ZqKXriCWQ"
      }
    },
    {
      "cell_type": "code",
      "source": [
        "# Dataset First Look\n",
        "terror_df.head()"
      ],
      "metadata": {
        "id": "LWNFOSvLl09H"
      },
      "execution_count": null,
      "outputs": []
    },
    {
      "cell_type": "markdown",
      "source": [
        "### Dataset Rows & Columns count"
      ],
      "metadata": {
        "id": "7hBIi_osiCS2"
      }
    },
    {
      "cell_type": "code",
      "source": [
        "print(f'Number of rows in the data set is {terror_df.shape[0]}')\n",
        "print(f'Number of Columns in the data set is {terror_df.shape[1]}')\n"
      ],
      "metadata": {
        "id": "Mmf3dB3Vh1ak"
      },
      "execution_count": null,
      "outputs": []
    },
    {
      "cell_type": "markdown",
      "source": [
        "#### Duplicate Values"
      ],
      "metadata": {
        "id": "35m5QtbWiB9F"
      }
    },
    {
      "cell_type": "code",
      "source": [
        "# Dataset Duplicate Value Count\n",
        "duplicate_counts = terror_df.duplicated( keep=False).sum()\n",
        "\n",
        "# Display the count of duplicate rows\n",
        "print(\"Number of duplicate rows:\", duplicate_counts)"
      ],
      "metadata": {
        "id": "1sLdpKYkmox0"
      },
      "execution_count": null,
      "outputs": []
    },
    {
      "cell_type": "markdown",
      "source": [
        "### Dataset Information"
      ],
      "metadata": {
        "id": "tuyifRPt4DP9"
      }
    },
    {
      "cell_type": "code",
      "source": [
        "# Dataset Information\n",
        "terror_df.info()"
      ],
      "metadata": {
        "id": "DJG-WR554JpB"
      },
      "execution_count": null,
      "outputs": []
    },
    {
      "cell_type": "markdown",
      "source": [
        "### What did you know about your dataset?"
      ],
      "metadata": {
        "id": "H0kj-8xxnORC"
      }
    },
    {
      "cell_type": "markdown",
      "source": [
        "#### The data set has 181691 rows 135 columns."
      ],
      "metadata": {
        "id": "gfoNAAC-nUe_"
      }
    },
    {
      "cell_type": "markdown",
      "source": [
        "## ***2. Understanding Your Variables***\n",
        "\n"
      ],
      "metadata": {
        "id": "nA9Y7ga8ng1Z"
      }
    },
    {
      "cell_type": "code",
      "source": [
        "# Dataset Columns\n",
        "terror_df.columns"
      ],
      "metadata": {
        "id": "j7xfkqrt5Ag5"
      },
      "execution_count": null,
      "outputs": []
    },
    {
      "cell_type": "code",
      "source": [
        "# Dataset Describe\n",
        "terror_df.describe()"
      ],
      "metadata": {
        "id": "DnOaZdaE5Q5t"
      },
      "execution_count": null,
      "outputs": []
    },
    {
      "cell_type": "markdown",
      "source": [
        "### Variables Description"
      ],
      "metadata": {
        "id": "PBTbrJXOngz2"
      }
    },
    {
      "cell_type": "markdown",
      "source": [
        "Answer Here\n",
        "Incident Information:\n",
        "\n",
        "eventid: A unique identifier for each incident.\n",
        "iyear: The year in which the incident occurred.\n",
        "imonth and iday: The month and day of the incident, respectively.\n",
        "country and region: The country and region where the incident occurred.\n",
        "provstate: The province or state within the country where the incident took place.\n",
        "city: The city where the incident occurred.\n",
        "latitude and longitude: Geographic coordinates of the incident location.\n",
        "specificity: Indicates the level of geographic specificity (e.g., city, region) of the incident's location.\n",
        "Attack Information:\n",
        "\n",
        "attacktype1, attacktype2, attacktype3: The primary, secondary, and tertiary attack types, categorizing the nature of the attack (e.g., assassination, bombing, hijacking).\n",
        "weaptype1, weaptype2, weaptype3: The primary, secondary, and tertiary weapon types used in the attack (e.g., explosives, firearms, chemical weapons).\n",
        "Target Information:\n",
        "\n",
        "targtype1, targtype2, targtype3: The primary, secondary, and tertiary target types of the attack (e.g., civilians, military, government).\n",
        "\n",
        "nkill: The number of confirmed fatalities in the incident.\n",
        "nwound: The number of confirmed injuries in the incident.\n",
        "\n",
        "nkillter: The number of perpetrators killed during the incident.\n",
        "Perpetrator Information:\n",
        "\n",
        "gname: The name of the group responsible for the attack.\n",
        "motive: The perceived motive behind the attack.\n",
        "guncertain1, guncertain2, guncertain3: Indicates whether the responsible group is uncertain for the primary, secondary, and tertiary groups involved.\n",
        "Additional Information:\n",
        "\n",
        "summary: A narrative description of the incident.\n",
        "dbsource: The source of the data for the incident.\n",
        "related: Indicates if the incident is related to another incident in the database.\n",
        "propextent: Extent of property damage (e.g., unknown, major, minor).\n",
        "propvalue: Value of the damaged property.\n",
        "ishostkid: Indicates whether hostages were taken during the incident.\n",
        "Miscellaneous Information:\n",
        "\n",
        "ransom: Indicates if a ransom was demanded or paid.\n",
        "ransompaid: Amount of ransom paid, if applicable.\n",
        "hostkidoutcome: Outcome of the hostage-taking incident."
      ],
      "metadata": {
        "id": "aJV4KIxSnxay"
      }
    },
    {
      "cell_type": "markdown",
      "source": [
        "### Check Unique Values for each variable."
      ],
      "metadata": {
        "id": "u3PMJOP6ngxN"
      }
    },
    {
      "cell_type": "code",
      "source": [
        "# Check Unique Values for each variable.\n",
        "for col in terror_df.columns:\n",
        "  print(f'Number of unique values in {col} column is {terror_df[col].nunique()}')"
      ],
      "metadata": {
        "id": "Q9M4Wwn6wqIe"
      },
      "execution_count": null,
      "outputs": []
    },
    {
      "cell_type": "markdown",
      "source": [
        "## 3. ***Data Wrangling***"
      ],
      "metadata": {
        "id": "dauF4eBmngu3"
      }
    },
    {
      "cell_type": "markdown",
      "source": [
        "### Data Wrangling Code"
      ],
      "metadata": {
        "id": "bKJF3rekwFvQ"
      }
    },
    {
      "cell_type": "code",
      "source": [
        "# Write your code to make your dataset analysis ready.\n",
        "# Renaming the dataset features.\n",
        "terror_df.rename(columns={'iyear':'Year', 'imonth':'Month', 'iday':'Day', 'country':'Country_num', 'country_txt':'Country',\n",
        "                          'region':'Region_num', 'weaptype1':'Weapon_Type', 'attacktype1':'Attack_type_num',\n",
        "                          'targtype1':'Target_type_num', 'targsubtype1':'Target_subType_num', 'target1':'Target_1',\n",
        "                          'provstate':'State', 'region_txt':'Region', 'nwound':'Wounded', 'nkill':'Killed',\n",
        "                          'natlty1_txt':'Nationality', 'natlty1':'Nationality_num', 'city':'City',\n",
        "                          'city_num':'City_num', 'target1_num':'Target_num', 'attacktype1_txt':'Attack_Type'},\n",
        "                inplace=True)\n",
        "\n",
        "# For correlation heat map we create a column for City name and name it as city_num.\n",
        "unique_values = terror_df['City'].unique()\n",
        "value_to_num = {value: idx for idx, value in enumerate(unique_values)}\n",
        "terror_df['City_num'] = terror_df['City'].map(value_to_num)\n",
        "\n",
        "# For correlation heat map we create a column for Target name and name it as Target_num.\n",
        "unique_values = terror_df['Target_1'].unique()\n",
        "value_to_num = {value: idx for idx, value in enumerate(unique_values)}\n",
        "terror_df['Target1_num'] = terror_df['Target_1'].map(value_to_num)\n",
        "\n",
        "# Create a dataset for Correlation heat map.\n",
        "corr_data_df = terror_df[['Year','City_num','Target1_num','Killed','Wounded','Weapon_Type','Nationality_num','Country_num','Region_num','Attack_type_num','Target_type_num','Target_subType_num']]\n",
        "\n",
        "# Renaming the columns of dating_data_df\n",
        "corr_data_df.rename(columns={'City_num':'City','Target1_num':'Target1','Nationality_num':'Nationality','Country_num':'Country','Region_num':'Region','Attack_type_num':'Attack_type','Target_type_num':'Target_type','Target_subType_num':'Target_subType'},inplace=True)\n",
        "\n",
        "\n",
        "\n",
        "# Fill Missing Data\n",
        "# - Fill missing values in the 'Killed' column with the mean of non-missing values.\n",
        "corr_data_df['Killed'].fillna(corr_data_df['Killed'].mean(), inplace=True)\n",
        "\n",
        "# - Fill missing values in the 'Wounded' column with the mean of non-missing values.\n",
        "corr_data_df['Wounded'].fillna(corr_data_df['Wounded'].mean(), inplace=True)\n",
        "\n",
        "# - Fill missing values in the 'Nationality' column with the most common nationality.\n",
        "corr_data_df['Nationality'].fillna(corr_data_df['Nationality'].mode()[0], inplace=True)\n",
        "\n",
        "# - Fill missing values in the 'Target_subType' column with the most common target subtype.\n",
        "corr_data_df['Target_subType'].fillna(corr_data_df['Target_subType'].mode()[0], inplace=True)"
      ],
      "metadata": {
        "id": "wk-9a2fpoLcV"
      },
      "execution_count": null,
      "outputs": []
    },
    {
      "cell_type": "code",
      "source": [
        "# Accessing the data type of the 'iyear' column, which likely represents the incident year\n",
        "data_type_iyear = terror_df.dtypes['Year']"
      ],
      "metadata": {
        "id": "-CQ179JRhICC"
      },
      "execution_count": null,
      "outputs": []
    },
    {
      "cell_type": "code",
      "source": [
        "# Print the unique values in the 'iyear' column of the 'terror_df' DataFrame.\n",
        "print(terror_df['Year'].unique())"
      ],
      "metadata": {
        "id": "pfa8pAm9A6TR"
      },
      "execution_count": null,
      "outputs": []
    },
    {
      "cell_type": "code",
      "source": [
        "# Selecting relevant columns from the terror_df DataFrame\n",
        "# Extracting information about the year, target, nationality, country, region, city,attack type, target type, and target subtype of each terror incident.\n",
        "\n",
        "terror_data_selection = terror_df[['Year', 'Target_1', 'Nationality_num', 'Country_num', 'Region_num', 'City',\n",
        "                                   'Attack_type_num', 'Target_type_num', 'Target_subType_num']]\n"
      ],
      "metadata": {
        "id": "blVf0u7zhH-v"
      },
      "execution_count": null,
      "outputs": []
    },
    {
      "cell_type": "code",
      "source": [
        "# Extracting specific columns from the 'terror_df' DataFrame to create a new DataFrame 'dating_data_df'\n",
        "# This new DataFrame will contain selected columns related to terrorist attacks data.\n",
        "# Columns selected include: Year, City_num, Target1_num, Killed, Wounded, Weapon_Type, Nationality_num,\n",
        "# Country_num, Region_num, Attack_type_num, Target_type_num, Target_subType_num\n",
        "dating_data_df = terror_df[['Year', 'City_num', 'Target1_num', 'Killed', 'Wounded', 'Weapon_Type',\n",
        "                            'Nationality_num', 'Country_num', 'Region_num', 'Attack_type_num',\n",
        "                            'Target_type_num', 'Target_subType_num']]"
      ],
      "metadata": {
        "id": "grLUWRyoKi-5"
      },
      "execution_count": null,
      "outputs": []
    },
    {
      "cell_type": "code",
      "source": [
        "# Renaming columns in the 'dating_data_df' DataFrame for better readability\n",
        "# Mapping numerical column names to their corresponding descriptive names\n",
        "dating_data_df.rename(columns={\n",
        "    'City_num': 'City',                   # Rename City_num column to City\n",
        "    'Target1_num': 'Target1',             # Rename Target1_num column to Target1\n",
        "    'Nationality_num': 'Nationality',     # Rename Nationality_num column to Nationality\n",
        "    'Country_num': 'Country',             # Rename Country_num column to Country\n",
        "    'Region_num': 'Region',               # Rename Region_num column to Region\n",
        "    'Attack_type_num': 'Attack_type',     # Rename Attack_type_num column to Attack_type\n",
        "    'Target_type_num': 'Target_type',     # Rename Target_type_num column to Target_type\n",
        "    'Target_subType_num': 'Target_subType'  # Rename Target_subType_num column to Target_subType\n",
        "}, inplace=True)\n"
      ],
      "metadata": {
        "id": "U6VGeJJGSoS8"
      },
      "execution_count": null,
      "outputs": []
    },
    {
      "cell_type": "code",
      "source": [
        "# Fill missing values in the 'Killed' column with the mean of non-missing values\n",
        "dating_data_df['Killed'].fillna(dating_data_df['Killed'].mean(), inplace=True)\n",
        "\n",
        "# Fill missing values in the 'Wounded' column with the mean of non-missing values\n",
        "dating_data_df['Wounded'].fillna(dating_data_df['Wounded'].mean(), inplace=True)\n",
        "\n",
        "# Fill missing values in the 'Nationality' column with the mode (most frequent value) of the column\n",
        "# This is useful for categorical variables\n",
        "dating_data_df['Nationality'].fillna(dating_data_df['Nationality'].mode()[0], inplace=True)\n",
        "\n",
        "# Fill missing values in the 'Target_subType' column with the mode (most frequent value) of the column\n",
        "# This is useful for categorical variables\n",
        "dating_data_df['Target_subType'].fillna(dating_data_df['Target_subType'].mode()[0], inplace=True)\n"
      ],
      "metadata": {
        "id": "2XC35eG9SoWa"
      },
      "execution_count": null,
      "outputs": []
    },
    {
      "cell_type": "code",
      "source": [
        "# Count the occurrences of terrorist incidents for each year in the 'iyear' column of the terror_df DataFrame.\n",
        "Count_terrorist_incidents = terror_df['Year'].value_counts()"
      ],
      "metadata": {
        "id": "iC2u6FVLU84C"
      },
      "execution_count": null,
      "outputs": []
    },
    {
      "cell_type": "code",
      "source": [
        "# Checking the data type of the variable Count_terrorist_incidents\n",
        "type(Count_terrorist_incidents)"
      ],
      "metadata": {
        "id": "uueYlsfObv4k"
      },
      "execution_count": null,
      "outputs": []
    },
    {
      "cell_type": "code",
      "source": [
        "# This code takes a DataFrame 'd', which likely contains a time-based index and a corresponding count,\n",
        "year_df = pd.DataFrame(Count_terrorist_incidents.reset_index())\n",
        "\n",
        "# and transforms it into a new DataFrame 'year_df'. It resets the index of 'd' to create a Year column,\n",
        "year_df.columns = ['Year','Count']\n",
        "\n",
        "# renames the columns to 'Year' and 'Count', and sorts the DataFrame based on the 'Year' column.\n",
        "year_df = year_df.sort_values(by=[\"Year\"])\n"
      ],
      "metadata": {
        "id": "GjcvarOu_Uus"
      },
      "execution_count": null,
      "outputs": []
    },
    {
      "cell_type": "code",
      "source": [
        "# Calculate the average number of terror attacks per year from 1970 to 1975\n",
        "teror_atk_fst_5_year = year_df[\"Count\"][0:6].mean()\n",
        "print(\"Average number of Terror attacks per year from 1970 to 1975 are \", teror_atk_fst_5_year)\n",
        "\n",
        "# Calculate the overall average number of terror attacks per year from 1970 to 2017\n",
        "mean_of_teror_atk = year_df[\"Count\"].mean()\n",
        "print(\"Average number of Terror attacks per year from 1970 to 2017 are \", mean_of_teror_atk)\n",
        "\n",
        "# Calculate the average number of terror attacks per year from 2013 to 2017\n",
        "teror_atk_last_5_year = year_df[\"Count\"][-5:].mean()\n",
        "print(\"Average number of Terror attacks per year from 2013 to 2017 are \", teror_atk_last_5_year)"
      ],
      "metadata": {
        "id": "ZjMW2Z1oShUu"
      },
      "execution_count": null,
      "outputs": []
    },
    {
      "cell_type": "code",
      "source": [
        "# Filter the 'terror_df' DataFrame to include only rows with years greater than or equal to 2000.\n",
        "rcnt_terror = terror_df[terror_df[\"Year\"] >= 2000]"
      ],
      "metadata": {
        "id": "8N9lMQVSShDE"
      },
      "execution_count": null,
      "outputs": []
    },
    {
      "cell_type": "code",
      "source": [
        "# Calculate the frequency of occurrences for each unique value in the \"region_txt\" column of the rcnt_terror DataFrame\n",
        "rgn_series = rcnt_terror[\"Region\"].value_counts()"
      ],
      "metadata": {
        "id": "_9fEbaBFSg_i"
      },
      "execution_count": null,
      "outputs": []
    },
    {
      "cell_type": "code",
      "source": [
        "# Create a DataFrame 'region_df' from the reset index of the 'rgn_series'.\n",
        "region_df = pd.DataFrame(rgn_series.reset_index())\n",
        "\n",
        "# Rename the columns of the DataFrame to 'Region' and 'Count'.\n",
        "region_df.columns = ['Region', 'Count']\n"
      ],
      "metadata": {
        "id": "KZGOPTo1Sg5u"
      },
      "execution_count": null,
      "outputs": []
    },
    {
      "cell_type": "code",
      "source": [
        "# Retrieves an array of unique values from the \"Region\" column of the region_df DataFrame.\n",
        "region_df[\"Region\"].unique()\n",
        "type(region_df)"
      ],
      "metadata": {
        "id": "YqiQbDsmLLjS"
      },
      "execution_count": null,
      "outputs": []
    },
    {
      "cell_type": "code",
      "source": [
        "# Count the occurrences of each country's name in the \"country_txt\" column\n",
        "cntry_series = rcnt_terror[\"Country\"].value_counts()"
      ],
      "metadata": {
        "id": "BGCfS7AThPEC"
      },
      "execution_count": null,
      "outputs": []
    },
    {
      "cell_type": "code",
      "source": [
        "# Convert a country series into a DataFrame, reset index to have 'Country' and 'Count' columns.\n",
        "country_df = pd.DataFrame(cntry_series.reset_index())\n",
        "\n",
        "# Rename the columns of the DataFrame to 'Country' and 'Count'.\n",
        "country_df.columns = ['Country', 'Count']"
      ],
      "metadata": {
        "id": "a5CCGCsVDoGZ"
      },
      "execution_count": null,
      "outputs": []
    },
    {
      "cell_type": "code",
      "source": [
        "# Filter the 'terror_df' DataFrame to select rows where the country is \"India\"\n",
        "india_atk_type = terror_df[terror_df[\"Country\"] == \"India\"]"
      ],
      "metadata": {
        "id": "wJ43l_Mhh30y"
      },
      "execution_count": null,
      "outputs": []
    },
    {
      "cell_type": "code",
      "source": [],
      "metadata": {
        "id": "zweXIoBxscyM"
      },
      "execution_count": null,
      "outputs": []
    },
    {
      "cell_type": "markdown",
      "source": [
        "### What all manipulations have you done and insights you found?"
      ],
      "metadata": {
        "id": "MSa1f5Uengrz"
      }
    },
    {
      "cell_type": "markdown",
      "source": [
        "Due to its extensive size, consisting of 135 columns, these columns hold a significant portion of the dataset, but attempting to learn from them is not practical. Therefore, our approach will involve renaming the column labels to enhance comprehension and subsequently extracting only the essential columns."
      ],
      "metadata": {
        "id": "LbyXE7I1olp8"
      }
    },
    {
      "cell_type": "markdown",
      "source": [
        "## ***4. Data Vizualization, Storytelling & Experimenting with charts : Understand the relationships between variables***"
      ],
      "metadata": {
        "id": "GF8Ens_Soomf"
      }
    },
    {
      "cell_type": "markdown",
      "source": [
        "#### Chart - 1 Correlation Heatmap"
      ],
      "metadata": {
        "id": "0wOQAZs5pc--"
      }
    },
    {
      "cell_type": "code",
      "source": [
        "# Chart - 1 visualization code\n",
        "corr_df = corr_data_df.corr()\n",
        "corr_df"
      ],
      "metadata": {
        "id": "7v_ESjsspbW7"
      },
      "execution_count": null,
      "outputs": []
    },
    {
      "cell_type": "code",
      "source": [
        "# Create a heatmap visualization of the correlation matrix using Seaborn.\n",
        "# The correlation matrix (corr_df) represents the relationships between variables.\n",
        "# The heatmap is plotted in a figure with dimensions 10x5 to enhance readability.\n",
        "# Brighter colors indicate stronger correlations while darker colors represent weaker ones.\n",
        "# This visualization helps in identifying patterns and relationships between variables.\n",
        "plt.figure(figsize=(10,5))\n",
        "sns.heatmap(corr_df)"
      ],
      "metadata": {
        "id": "6qDwjKwrzL6C"
      },
      "execution_count": null,
      "outputs": []
    },
    {
      "cell_type": "code",
      "source": [
        "# Set the size of the figure for the heatmap\n",
        "plt.figure(figsize=(15, 10))\n",
        "\n",
        "# Create a heatmap of the correlation matrix for corr_data_df\n",
        "# - The 'corr()' function computes the pairwise correlation of columns in the DataFrame.\n",
        "# - 'vmin' sets the lower limit of the color scale to -1 (strong negative correlation).\n",
        "# - 'cmap' specifies the color map used for the heatmap ('coolwarm' ranges from cool to warm colors).\n",
        "# - 'annot=True' displays the correlation coefficients in each cell of the heatmap.\n",
        "sns.heatmap(corr_data_df.corr(), vmin=-1, cmap='coolwarm', annot=True)\n",
        "\n",
        "# Display the heatmap\n",
        "plt.show()\n"
      ],
      "metadata": {
        "id": "CM2eD9-3fhfa"
      },
      "execution_count": null,
      "outputs": []
    },
    {
      "cell_type": "markdown",
      "source": [
        "##### 1. Why did you pick the specific chart?"
      ],
      "metadata": {
        "id": "K5QZ13OEpz2H"
      }
    },
    {
      "cell_type": "markdown",
      "source": [
        "Answer Here.\n",
        "Correlation heat maps are used to visualize the relationships between variables by displaying correlation coefficients in a color-coded format."
      ],
      "metadata": {
        "id": "XESiWehPqBRc"
      }
    },
    {
      "cell_type": "markdown",
      "source": [
        "##### 2. What is/are the insight(s) found from the chart?"
      ],
      "metadata": {
        "id": "lQ7QKXXCp7Bj"
      }
    },
    {
      "cell_type": "markdown",
      "source": [
        "Answer Here\n",
        " In this correlation chart we can see that weapon type has 0.66 correlation with Attack type.\n",
        "  In this correlation chart we can see that year has 0.58 correlation with city."
      ],
      "metadata": {
        "id": "C_j1G7yiqdRP"
      }
    },
    {
      "cell_type": "markdown",
      "source": [
        "##### 3. Will the gained insights help creating a positive business impact?\n",
        "Are there any insights that lead to negative growth? Justify with specific reason."
      ],
      "metadata": {
        "id": "448CDAPjqfQr"
      }
    },
    {
      "cell_type": "markdown",
      "source": [
        "Answer Here\n",
        "Here In this correlation chart we can see that weapon type has 0.66 correlation with Attack type.and in the further graph we will see that Attack type in India has an relation people get killed,and unarmed type attack has zero casualty.which means that by restricting weapons smuglling we chould decrease casualties/killings."
      ],
      "metadata": {
        "id": "3cspy4FjqxJW"
      }
    },
    {
      "cell_type": "markdown",
      "source": [
        "#### Chart - 2  visualization code"
      ],
      "metadata": {
        "id": "KSlN3yHqYklG"
      }
    },
    {
      "cell_type": "code",
      "source": [
        "# Selecting the 'iyear' column from the 'terror_df' DataFrame and creating a histogram plot to visualize the distribution of years.\n",
        "t_df = terror_df[['Year']]\n",
        "t_df.plot(kind='hist')"
      ],
      "metadata": {
        "id": "-_edtHxyzrq0"
      },
      "execution_count": null,
      "outputs": []
    },
    {
      "cell_type": "code",
      "source": [
        "# Create a bar plot to visualize the distribution of terrorist activities over the years.\n",
        "\n",
        "# The figsize parameter sets the dimensions of the plot to (15, 6) for better visibility.\n",
        "plt.subplots(figsize=(15,6))\n",
        "\n",
        "# The seaborn countplot function is used with the 'terror_df' DataFrame, plotting the count of activities for each year.\n",
        "# The 'edgecolor' parameter sets the color of the bar edges using a darker shade from the 'dark' palette.\n",
        "ax = sns.countplot(data=terror_df, x=terror_df['Year'] ,palette='crest',edgecolor=sns.color_palette('dark',7))\n",
        "\n",
        "# The 'plt.xticks(rotation=90)' rotates the x-axis labels by 90 degrees for better readability.\n",
        "plt.xticks(rotation=90)\n",
        "\n",
        "# The 'plt.title' function sets the title of the plot to 'Number Of Terrorist Activities Each Year'.\n",
        "plt.title('Number Of Terrorist Activities Each Year')\n",
        "\n",
        "\n",
        "# Annotating each bar with its count\n",
        "for p in ax.patches:\n",
        "    ax.annotate(format(p.get_height(), '.0f'),\n",
        "                (p.get_x() + p.get_width() / 2., p.get_height()),\n",
        "                ha = 'center', va = 'center',\n",
        "                xytext = (0, 9),\n",
        "                textcoords = 'offset points')\n",
        "\n",
        "\n",
        "# Finally, 'plt.show()' displays the plot.\n",
        "plt.show()"
      ],
      "metadata": {
        "id": "R4YgtaqtYklH"
      },
      "execution_count": null,
      "outputs": []
    },
    {
      "cell_type": "markdown",
      "source": [
        "##### 1. Why did you pick the specific chart?"
      ],
      "metadata": {
        "id": "t6dVpIINYklI"
      }
    },
    {
      "cell_type": "markdown",
      "source": [
        "Answer Here.\n",
        "It gives us the variation in number of terrorist activities over the years."
      ],
      "metadata": {
        "id": "5aaW0BYyYklI"
      }
    },
    {
      "cell_type": "markdown",
      "source": [
        "##### 2. What is/are the insight(s) found from the chart?"
      ],
      "metadata": {
        "id": "ijmpgYnKYklI"
      }
    },
    {
      "cell_type": "code",
      "source": [
        "# Assuming 'terror_df' is a DataFrame containing relevant data\n",
        "# Calculate the count of terrorist attacks per year and store it as a dictionary\n",
        "count_year = terror_df.Year.value_counts().to_dict()\n",
        "\n",
        "# Calculate the percentage increase in attacks from 1970 to 2017\n",
        "rate = ((count_year[2017] - count_year[1970]) / count_year[1970]) * 100\n",
        "\n",
        "# Print the counts of attacks in 1970 and 2017\n",
        "print(count_year[1970], 'attacks happened in 1970 &', count_year[2017], 'attacks happened in 2017')\n",
        "\n",
        "# Print the percentage increase in attacks from 1970 to 2017\n",
        "print('So the number of attacks has increased by', np.round(rate, 2), '% from 1970 to 2017')"
      ],
      "metadata": {
        "id": "I4SmTIRhnC7Y"
      },
      "execution_count": null,
      "outputs": []
    },
    {
      "cell_type": "code",
      "source": [
        "# Calculate the average number of terror attacks per year for the initial five years from 1970 to 1975\n",
        "teror_atk_fst_5_year = year_df[\"Count\"][0:6].mean()\n",
        "\n",
        "# Display the calculated average number of terror attacks for the specified period\n",
        "print(\"Average number of Terror attacks per year from 1970 to 1975: \", teror_atk_fst_5_year)\n",
        "\n",
        "\n",
        "# Calculating Overall Average (1970-2017)\n",
        "\n",
        "mean_of_teror_atk=year_df[\"Count\"].mean()\n",
        "print(\"Average number of Terror attacks per year from 1970 to 2017 are \" ,mean_of_teror_atk)\n",
        "\n",
        "#This part determines the average number of terrorist attacks per year for the last 5 years (2013-2017) by utilizing the last 5 elements of the \"Count\" column in the DataFrame.\n",
        "#The outcome is displayed via the print statement.\n",
        "\n",
        "teror_atk_last_5_year = year_df[\"Count\"][-5:].mean()\n",
        "print(\"Average number of Terror attacks per year from 2013 to 2017 are \" ,teror_atk_last_5_year)"
      ],
      "metadata": {
        "id": "hRhNJUQytXJv"
      },
      "execution_count": null,
      "outputs": []
    },
    {
      "cell_type": "markdown",
      "source": [
        "Answer Here"
      ],
      "metadata": {
        "id": "PSx9atu2YklI"
      }
    },
    {
      "cell_type": "markdown",
      "source": [
        "##### 3. Will the gained insights help creating a positive business impact?\n",
        "Are there any insights that lead to negative growth? Justify with specific reason."
      ],
      "metadata": {
        "id": "-JiQyfWJYklI"
      }
    },
    {
      "cell_type": "markdown",
      "source": [
        "Answer Here\n",
        "Over the Years number of Terrorist attacks are increasing which means that measures taken to prevent attacks are not enough."
      ],
      "metadata": {
        "id": "BcBbebzrYklV"
      }
    },
    {
      "cell_type": "markdown",
      "source": [
        "#### Chart - 3"
      ],
      "metadata": {
        "id": "EM7whBJCYoAo"
      }
    },
    {
      "cell_type": "code",
      "source": [
        "# This line filters the original dataset terror_df to include only rows where the \"Year\" column is greater than or equal to 2000.\n",
        "#This creates a new DataFrame called rcnt_terror containing recent terrorism data.\n",
        "\n",
        "rcnt_terror = terror_df[terror_df[\"Year\"] >= 2000]\n",
        "\n",
        "# This line calculates the frequency of occurrences for each unique value in the \"Region\" column of the rcnt_terror DataFrame.\n",
        "# The result is a Series called rgn_series where the index represents different regions, and the values represent the counts of occurrences for each region.\n",
        "\n",
        "rgn_series = rcnt_terror[\"Region\"].value_counts()\n",
        "\n",
        "region_df = pd.DataFrame(rgn_series.reset_index())\n",
        "region_df.columns = ['Region','Count']\n",
        "#region_df = region_df.sort_values(by=[\"Region\"])\n",
        "region_df\n",
        "\n",
        "# Calculate the frequency of terrorist incidents by country and region\n",
        "# and store the results in separate series for further analysis.\n",
        "\n",
        "cntry_series = rcnt_terror[\"Country\"].value_counts()  # Count incidents by country\n",
        "region_series = rcnt_terror[\"Region\"].value_counts()  # Count incidents by region\n"
      ],
      "metadata": {
        "id": "eoReChsXt9cT"
      },
      "execution_count": null,
      "outputs": []
    },
    {
      "cell_type": "code",
      "source": [
        "# Create a DataFrame from the 'cntry_series' which contains country data and counts.\n",
        "country_df = pd.DataFrame(cntry_series.reset_index())\n",
        "\n",
        "# Rename the columns of the DataFrame to 'Country' and 'Count' for clarity.\n",
        "country_df.columns = ['Country', 'Count']\n",
        "\n",
        "# Note: The code assumes that 'cntry_series' is a Series containing country data and counts.\n",
        "# It transforms this data into a DataFrame with two columns: 'Country' and 'Count'.\n",
        "country_df"
      ],
      "metadata": {
        "id": "rbGSS0ect9je"
      },
      "execution_count": null,
      "outputs": []
    },
    {
      "cell_type": "code",
      "source": [
        "# Convert the region_series into a DataFrame, resetting the index to have Region and Count columns.\n",
        "region_df = pd.DataFrame(region_series.reset_index())\n",
        "\n",
        "# Rename the columns to improve readability and maintain consistency.\n",
        "region_df.columns = ['Region', 'Count']\n",
        "\n",
        "# Note: The sorting step has been commented out. If needed, you can uncomment and use 'sort_values' to sort the DataFrame by Region.\n",
        "# region_df = region_df.sort_values(by=[\"Region\"])\n",
        "\n",
        "# Display the resulting DataFrame that contains region-wise counts.\n",
        "region_df\n"
      ],
      "metadata": {
        "id": "tShr0Pz0t-D1"
      },
      "execution_count": null,
      "outputs": []
    },
    {
      "cell_type": "code",
      "source": [
        "# Create a cross-tabulation (crosstab) of 'Year' and 'Region' from the 'rcnt_terror' DataFrame\n",
        "terror_region = pd.crosstab(rcnt_terror.Year, rcnt_terror.Region)\n",
        "\n",
        "# Create an area plot using seaborn with distinct colors for each region\n",
        "terror_region.plot(color=sns.color_palette('bright', 12), kind=\"area\")\n",
        "\n",
        "# Get the current figure and set its size\n",
        "fig = plt.gcf()\n",
        "fig.set_size_inches(18, 6)\n",
        "\n",
        "# Set the title for the plot\n",
        "plt.title(\"Variation in regions of number of Terrorist activities in the 21st century over years\")\n",
        "\n",
        "# Display the plot\n",
        "plt.show()\n"
      ],
      "metadata": {
        "id": "VDung-une6fM"
      },
      "execution_count": null,
      "outputs": []
    },
    {
      "cell_type": "code",
      "source": [
        "# Set the figure size\n",
        "plt.subplots(figsize=(15, 6))\n",
        "\n",
        "# Create a bar plot using Seaborn\n",
        "bar_plot = sns.barplot(x=country_df[\"Country\"].head(15), y=country_df[\"Count\"].head(15), data=country_df, palette=\"colorblind\")\n",
        "\n",
        "# Rotate x-axis labels for better readability\n",
        "plt.xticks(rotation=90)\n",
        "\n",
        "# Add a title to the plot\n",
        "plt.title(\"Top 15 Countries with the Highest Number of Terrorist Activities in the 21st Century\")\n",
        "\n",
        "# Annotate each bar with its count\n",
        "for index, value in enumerate(country_df[\"Count\"].head(15)):\n",
        "    bar_plot.text(index, value + 1, str(value), ha='center', va='bottom', fontsize=10)\n",
        "\n",
        "# Display the plot\n",
        "plt.show()"
      ],
      "metadata": {
        "id": "jLrORGxKvtWa"
      },
      "execution_count": null,
      "outputs": []
    },
    {
      "cell_type": "code",
      "source": [
        "# Chart - 3 visualization code\n",
        "\n",
        "\n",
        "# Set the figure size\n",
        "plt.subplots(figsize=(15, 6))\n",
        "\n",
        "# Create a bar plot using Seaborn\n",
        "bar_plot = sns.barplot(x=region_df[\"Region\"].head(15), y=region_df[\"Count\"].head(15), data=region_df, palette=\"colorblind\")\n",
        "\n",
        "# Rotate x-axis labels for better readability\n",
        "plt.xticks(rotation=90)\n",
        "\n",
        "# Set the plot title\n",
        "plt.title(\"Top 15 Regions with the Highest Number of Terrorist Activities in the 21st Century\")\n",
        "\n",
        "# Annotate each bar with its count\n",
        "for index, value in enumerate(region_df[\"Count\"].head(15)):\n",
        "    bar_plot.text(index, value + 1, str(value), ha='center', va='bottom', fontsize=10)\n",
        "\n",
        "# Display the plot\n",
        "plt.show()\n"
      ],
      "metadata": {
        "id": "t6GMdE67YoAp"
      },
      "execution_count": null,
      "outputs": []
    },
    {
      "cell_type": "markdown",
      "source": [
        "##### 1. Why did you pick the specific chart?"
      ],
      "metadata": {
        "id": "fge-S5ZAYoAp"
      }
    },
    {
      "cell_type": "markdown",
      "source": [
        "Answer Here.\n",
        "It shows top 15 country's and region's having highest number Of terrorist activities in 21st century."
      ],
      "metadata": {
        "id": "5dBItgRVYoAp"
      }
    },
    {
      "cell_type": "markdown",
      "source": [
        "##### 2. What is/are the insight(s) found from the chart?"
      ],
      "metadata": {
        "id": "85gYPyotYoAp"
      }
    },
    {
      "cell_type": "markdown",
      "source": [
        "Answer Here\n",
        "Iraq has the most attacks followed by Afganistan and Pakistan an then India.\n",
        "Terrorist are preffering to attack from Bombing/Explosions"
      ],
      "metadata": {
        "id": "4jstXR6OYoAp"
      }
    },
    {
      "cell_type": "markdown",
      "source": [
        "##### 3. Will the gained insights help creating a positive business impact?\n",
        "Are there any insights that lead to negative growth? Justify with specific reason."
      ],
      "metadata": {
        "id": "RoGjAbkUYoAp"
      }
    },
    {
      "cell_type": "markdown",
      "source": [
        "Answer Here\n",
        "It shows us which of the countrie's/region's are suffering most from the terrorist attacks at where the prevention is needed the most. so, that we can see the significant fall in total number of terrorist attacks."
      ],
      "metadata": {
        "id": "zfJ8IqMcYoAp"
      }
    },
    {
      "cell_type": "markdown",
      "source": [
        "#### Chart - 4"
      ],
      "metadata": {
        "id": "4Of9eVA-YrdM"
      }
    },
    {
      "cell_type": "code",
      "source": [
        "# Chart - 4 visualization code\n",
        "\n",
        "import plotly.express as px\n",
        "\n",
        "# This function calculates and returns a dataframe containing the count of cases\n",
        "# for each unique value in the specified column of the input dataframe.\n",
        "# It's useful for quickly understanding the distribution of events across different categories.\n",
        "# Parameters:\n",
        "#   - dataframe: The input dataframe containing event data.\n",
        "#   - column_name: The name of the column to analyze for case counts.\n",
        "# Returns:\n",
        "#   - cases_by_column_df: A dataframe showing unique values in the specified column\n",
        "#                         along with the corresponding number of cases for each value.\n",
        "def case_count(dataframe, column_name):\n",
        "    cases_by_column = dataframe.groupby(column_name)['eventid'].count().sort_values(ascending=False)\n",
        "    cases_by_column_df = pd.DataFrame({column_name: cases_by_column.index, 'Number of cases': cases_by_column.values})\n",
        "    return cases_by_column_df\n",
        "\n",
        "\n",
        "# plotting number of cases on world map by using chloropleth function in plotly.express\n",
        "cases_by_country_df=case_count(terror_df,'Country')\n",
        "px.choropleth(cases_by_country_df, locations='Country'\n",
        ",color='Number of cases',locationmode='country names',hover_name='Country',projection='natural earth')"
      ],
      "metadata": {
        "id": "irlUoxc8YrdO"
      },
      "execution_count": null,
      "outputs": []
    },
    {
      "cell_type": "markdown",
      "source": [
        "##### 1. Why did you pick the specific chart?"
      ],
      "metadata": {
        "id": "iky9q4vBYrdO"
      }
    },
    {
      "cell_type": "markdown",
      "source": [
        "Answer Here.\n",
        "It clearly visualize that on the world map which are the countris and regions most and in what proportion are suffering from Terrorist attacks."
      ],
      "metadata": {
        "id": "aJRCwT6DYrdO"
      }
    },
    {
      "cell_type": "markdown",
      "source": [
        "##### 2. What is/are the insight(s) found from the chart?"
      ],
      "metadata": {
        "id": "F6T5p64dYrdO"
      }
    },
    {
      "cell_type": "markdown",
      "source": [
        "Answer Here\n",
        "Iraq has the most attacks followed by Afganistan and Pakistan an then India.\n",
        "\n",
        "The Middle East and North Africa regions has most targeted.\n",
        "\n",
        "Highest number of attacks occured in Miidle East and North Africa Region followed by South Asia."
      ],
      "metadata": {
        "id": "Xx8WAJvtYrdO"
      }
    },
    {
      "cell_type": "markdown",
      "source": [
        "##### 3. Will the gained insights help creating a positive business impact?\n",
        "Are there any insights that lead to negative growth? Justify with specific reason."
      ],
      "metadata": {
        "id": "y-Ehk30pYrdP"
      }
    },
    {
      "cell_type": "markdown",
      "source": [
        "Answer Here\n",
        "It shows us which of the countrie's/region's are suffering most or least from the terrorist attacks and what key role geography and geo political location is playing in deciding the number of terrorist attack in a country/region.so,that we can decide the type of prevention needed at a particular Country/region.so,that we chould get significant fall in total number of terrorist attacks.\n"
      ],
      "metadata": {
        "id": "jLNxxz7MYrdP"
      }
    },
    {
      "cell_type": "markdown",
      "source": [
        "#### Chart - 5"
      ],
      "metadata": {
        "id": "bamQiAODYuh1"
      }
    },
    {
      "cell_type": "code",
      "source": [
        "# Extracting rows from the 'terror_df' DataFrame where the country is \"India\".\n",
        "india_atk_type = terror_df[terror_df[\"Country\"] == \"India\"]"
      ],
      "metadata": {
        "id": "SUDIS6LP5Xqw"
      },
      "execution_count": null,
      "outputs": []
    },
    {
      "cell_type": "code",
      "source": [
        "# Create a bar plot to visualize the distribution of terrorist activities over the years.\n",
        "# Set the figsize parameter to (15, 6) for better visibility.\n",
        "plt.subplots(figsize=(15, 6))\n",
        "\n",
        "# Calculate the count of activities for each attack type and order them in descending order\n",
        "activity_counts = india_atk_type['Attack_Type'].value_counts().sort_values(ascending=False)\n",
        "\n",
        "# The seaborn countplot function is used with the 'india_atk_type' DataFrame,\n",
        "# plotting the count of activities for each attack type with a specified palette.\n",
        "# The 'edgecolor' parameter sets the color of the bar edges using a darker shade from the 'dark' palette.\n",
        "ax = sns.countplot(data=india_atk_type, x='Attack_Type', order=activity_counts.index, palette='hot', edgecolor=sns.color_palette('dark', 7))\n",
        "\n",
        "# Rotate the x-axis labels by 90 degrees for better readability.\n",
        "plt.xticks(rotation=90)\n",
        "\n",
        "# Set the title of the plot to 'Number Of Terrorist Activities Each Year'.\n",
        "plt.title('Number Of Terrorist Activities Each Year')\n",
        "\n",
        "# Annotate each bar with its count\n",
        "for p in ax.patches:\n",
        "    ax.annotate(format(p.get_height(), '.0f'),\n",
        "                (p.get_x() + p.get_width() / 2., p.get_height()),\n",
        "                ha='center', va='center',\n",
        "                xytext=(0, 9),\n",
        "                textcoords='offset points')\n",
        "\n",
        "# Display the plot.\n",
        "plt.show()\n"
      ],
      "metadata": {
        "id": "Ue4IfHn31Req"
      },
      "execution_count": null,
      "outputs": []
    },
    {
      "cell_type": "code",
      "source": [
        "# Chart - 5 visualization code\n",
        "# This code uses the pandas library to create a cross-tabulation between the 'Year' and 'Attack_Type' columns in the 'india_atk_type' dataset.\n",
        "# The resulting cross-tabulation is then used to create a plot using the 'plot' function, with different colors assigned to each attack type using the 'sns.color_palette' function.\n",
        "change_in_attack_type_india=pd.crosstab(india_atk_type.Year,india_atk_type.Attack_Type)\n",
        "change_in_attack_type_india.plot(color=sns.color_palette('bright',12))\n",
        "\n",
        "# The figure size is adjusted to 15x5 inches using 'plt.gcf()' and 'fig.set_size_inches'.\n",
        "# The y-axis label is set to 'Number of Attacks' and the title of the plot is set to \"Variation in type of terrorist attack in India over the years\".\n",
        "fig=plt.gcf()\n",
        "fig.set_size_inches(15,5)\n",
        "# The y-axis label is set to 'Number of Attacks' and the title of the plot is set to \"Variation in type of terrorist attack in India over the years\".\n",
        "plt.ylabel('Number of Attacks')\n",
        "plt.title(\"Variation in type of terrorist attack in india over the years\")\n",
        "\n",
        "\n",
        "# Create a DataFrame to aggregate and analyze data on the number of casualties in different attack types over the years.\n",
        "killed_in_Attack_OverYears = pd.DataFrame()\n",
        "\n",
        "# Group the data by year and attack type, and calculate the total number of people killed in each group.\n",
        "killed_in_Attack_OverYears['Killed_in_Attack_Type'] = india_atk_type.groupby(['Year', 'Attack_Type'])['Killed'].sum()\n",
        "\n",
        "# Reset the index of the DataFrame to make the grouped data accessible as columns.\n",
        "killed_in_Attack_OverYears = killed_in_Attack_OverYears.reset_index()\n",
        "\n",
        "\n",
        "# Group and aggregate the data\n",
        "data_grouped = india_atk_type.groupby(['Year', 'Attack_Type'])['Killed'].sum().reset_index()\n",
        "\n",
        "# Create pivot table\n",
        "pivot_table = data_grouped.pivot(index='Year', columns='Attack_Type', values='Killed')\n",
        "\n",
        "# Create the plot\n",
        "pivot_table.plot(kind='line', marker='o', figsize=(15, 5),color=sns.color_palette('bright',12))\n",
        "\n",
        "# Set labels and title\n",
        "plt.xlabel('Year')\n",
        "plt.ylabel('Killed')\n",
        "plt.title('Attack Types and Deaths Over Years')\n",
        "\n",
        "# Display legend\n",
        "plt.legend(title='Attack Type')\n",
        "\n",
        "# Display the plot\n",
        "plt.grid(True)\n",
        "plt.show()"
      ],
      "metadata": {
        "id": "TIJwrbroYuh3"
      },
      "execution_count": null,
      "outputs": []
    },
    {
      "cell_type": "markdown",
      "source": [
        "##### 1. Why did you pick the specific chart?"
      ],
      "metadata": {
        "id": "QHF8YVU7Yuh3"
      }
    },
    {
      "cell_type": "markdown",
      "source": [
        "Answer Here.\n",
        "It shows us the variation of number of type of attacks and variation of number of people killed by these Attacks over the year."
      ],
      "metadata": {
        "id": "dcxuIMRPYuh3"
      }
    },
    {
      "cell_type": "markdown",
      "source": [
        "##### 2. What is/are the insight(s) found from the chart?"
      ],
      "metadata": {
        "id": "GwzvFGzlYuh3"
      }
    },
    {
      "cell_type": "markdown",
      "source": [
        "Answer Here\n",
        "\n",
        "*   Attacks has increased but number of people killed manier times as attack happend.\n",
        "*   Terrorist are preffering to attack from Bombing/Explosions the most, but the people are dieing from Arm Assalut which is second most attack type at India in recent years.\n",
        "*   Deaths due to Assasination and Hostage Taking(Kidnaping) is reached near to the deaths occured by the most preffered attack type(bombing/explosion) in recent years.\n",
        "\n",
        "*   In other words above point can also be described as from around year '2006' deaths due Bombing/Explosion is significantly decreased despite number of attack Bombing/Explosion has increased significantly.\n",
        "\n",
        "*   Deaths due to Attack Type Unarmed Assault is always being zero irrespective of number of attacks.\n"
      ],
      "metadata": {
        "id": "uyqkiB8YYuh3"
      }
    },
    {
      "cell_type": "markdown",
      "source": [
        "##### 3. Will the gained insights help creating a positive business impact?\n",
        "Are there any insights that lead to negative growth? Justify with specific reason."
      ],
      "metadata": {
        "id": "qYpmQ266Yuh3"
      }
    },
    {
      "cell_type": "markdown",
      "source": [
        "Answer Here\n",
        "Deaths due to Attack Type Unarmed Assault is always being zero irrespective of number of attacks.\n",
        "\n",
        "*   Deaths due to Attack Type Unarmed Assault is always being zero irrespective of number of attacks preventing the smuggling of weapons will decrease the number of deaths.\n",
        "*   Type of Attack has a significant role in number of casualties.\n",
        "\n",
        "*   In other words above point can also be described as from around year '2006' deaths due Bombing/Explosion is significantly decreased despite number of attack Bombing/Explosion has increased significantly,preventive measures taken from year 2006 is successful in it's purpose.\n",
        "\n",
        "*   Deaths due to Assasination and Hostage Taking(Kidnaping) is reached near to the deaths occured by the most preffered attack type(bombing/explosion) in recent years.Although Assasination and Hostage Taking(Kidnaping) type attacks are less in number but it causes more deaths as compare other types of attacks.\n",
        "\n",
        "\n",
        "\n"
      ],
      "metadata": {
        "id": "_WtzZ_hCYuh4"
      }
    },
    {
      "cell_type": "markdown",
      "source": [
        "# **Conclusion**"
      ],
      "metadata": {
        "id": "gCX9965dhzqZ"
      }
    },
    {
      "cell_type": "markdown",
      "source": [
        "Write the conclusion here.\n",
        "##### From the first plot it is very noticeable that the terrorism landscape before and after the war on terror is vastly different. Before 2001, the regions were much closer together in terms of activity, eventually all droping to a minimum in 2000. After 2001, the middle east and south asia have dictated the rise in terrorism numbers, with a significant increase in Sub-Saharan Africa as well.\n",
        "\n",
        "#### Insights derived from the above EDA:\n",
        "\n",
        "##### 1.) Attacks has increased but number of people killed manier times as attack happend.\n",
        "##### 2.) Iraq has the most attacks followed by Afganistan and Pakistan an then India.\n",
        "##### 3.) The Middle East and North Africa regions has most targeted.\n",
        "##### 4.) Terrorist are preffering to attack from Bombing/Explosions the most, but the people are dieing from Arm Assalut which is second most attack type at India in recent years.\n",
        "##### 5.) Deaths due to Assasination and Hostage Taking(Kidnaping) is reached near to the deaths occured by the most preffered attack type(bombing/explosion) in recent years.\n",
        "##### 6.) In other words above point can also be described as from around year '2006' deaths due Bombing/Explosion is significantly decreased despite number of attack Bombing/Explosion has increased significantly.\n",
        "##### 7.) Deaths due to Attack Type Unarmed Assault is always being zero irrespective of number of attacks.\n",
        "##### 8.) Highest number of attacks occured in Miidle East and North Africa Region followed by South Asia."
      ],
      "metadata": {
        "id": "Fjb1IsQkh3yE"
      }
    },
    {
      "cell_type": "markdown",
      "source": [
        "### ***Hurrah! You have successfully completed your EDA Capstone Project !!!***"
      ],
      "metadata": {
        "id": "gIfDvo9L0UH2"
      }
    }
  ]
}