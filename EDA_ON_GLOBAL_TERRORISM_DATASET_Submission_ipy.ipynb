{
  "nbformat": 4,
  "nbformat_minor": 0,
  "metadata": {
    "colab": {
      "private_outputs": true,
      "provenance": [],
      "collapsed_sections": [
        "gIfDvo9L0UH2"
      ],
      "include_colab_link": true
    },
    "kernelspec": {
      "name": "python3",
      "display_name": "Python 3"
    },
    "language_info": {
      "name": "python"
    }
  },
  "cells": [
    {
      "cell_type": "markdown",
      "metadata": {
        "id": "view-in-github",
        "colab_type": "text"
      },
      "source": [
        "<a href=\"https://colab.research.google.com/github/arjun101sharma/hello-world/blob/main/EDA_ON_GLOBAL_TERRORISM_DATASET_Submission_ipy.ipynb\" target=\"_parent\"><img src=\"https://colab.research.google.com/assets/colab-badge.svg\" alt=\"Open In Colab\"/></a>"
      ]
    },
    {
      "cell_type": "markdown",
      "source": [
        "# **Project Name**    - Global Terrorism Dataset."
      ],
      "metadata": {
        "id": "vncDsAP0Gaoa"
      }
    },
    {
      "cell_type": "markdown",
      "source": [
        "##### **Project Type**    - Exploratory Data Analysis.\n",
        "##### **Contribution**    - Individual.\n",
        "##### **Team Member 1**-  $\\color{orange}{\\text{Arjun Sharma}}$"
      ],
      "metadata": {
        "id": "beRrZCGUAJYm"
      }
    },
    {
      "cell_type": "markdown",
      "source": [
        "### **Project Summary -**"
      ],
      "metadata": {
        "id": "FJNUwmbgGyua"
      }
    },
    {
      "cell_type": "markdown",
      "source": [
        "**Data Preprocessing** :\n",
        "\n",
        "1. Getting the dataset\n",
        "2. Importing libraries\n",
        "3. Importing datasets\n",
        "4. Finding Missing Data\n",
        "5. Encoding Categorical Data\n",
        "6. Data Cleaning and Feature Engineering\n",
        "\n",
        "**Exploratory data analysis(EDA) :**\n",
        "\n",
        "1.First, we see the variation of number of attacks over the years.\n",
        "\n",
        "2.We visualize the Regions and Countries most affected by which type of terrorist attack over the years???\n",
        "\n",
        "3.Countries with the highest countplots for the top four attack types.\n",
        "\n",
        "4.Checked the variation in people got killed and wounded from 1970 to 2017.\n",
        "\n",
        "5.Checked how In India, Attack types varry over the years and number of people got killed vary due to these types of Attack??\n",
        "\n",
        "6.Correlation Heat map of prominant variables of Dataset.\n",
        "\n",
        "7.Pair plot of prominant variables of Dataset."
      ],
      "metadata": {
        "id": "JO9FCB8xtaaQ"
      }
    },
    {
      "cell_type": "markdown",
      "source": [
        "# **GitHub Link -**"
      ],
      "metadata": {
        "id": "w6K7xa23Elo4"
      }
    },
    {
      "cell_type": "markdown",
      "source": [
        "Provide your GitHub Link here.\n",
        "https://github.com/arjun101sharma/hello-world\n"
      ],
      "metadata": {
        "id": "h1o69JH3Eqqn"
      }
    },
    {
      "cell_type": "markdown",
      "source": [
        "# **Problem Statement**"
      ],
      "metadata": {
        "id": "yQaldy8SH6Dl"
      }
    },
    {
      "cell_type": "markdown",
      "source": [
        "**Write Problem Statement Here.**\n",
        "The problem statement for Exploratory Data Analysis (EDA) of Global Terrorism Data involves examining and analyzing a comprehensive dataset related to terrorist incidents worldwide. The dataset includes information about various aspects of terrorist attacks, such as location, date, type of attack, target, number of casualties, and more. The goal of the EDA is to gain insights, discover patterns, and generate visualizations that can help us better understand the nature and trends of global terrorism."
      ],
      "metadata": {
        "id": "DpeJGUA3kjGy"
      }
    },
    {
      "cell_type": "markdown",
      "source": [
        "#### **Define Your Business Objective?**"
      ],
      "metadata": {
        "id": "dGNq54dQDj5f"
      }
    },
    {
      "cell_type": "markdown",
      "source": [
        "The business objective for using a global terrorism dataset can vary depending on the organization's goals and industry. Here are several potential business objectives for using such a dataset:\n",
        "\n",
        "Security and Risk Assessment: Businesses in regions prone to terrorism may use this dataset to assess security risks for their operations and assets. The objective would be to identify high-risk areas and take appropriate measures to mitigate these risks.\n",
        "\n",
        "Insurance and Risk Management: Insurance companies may use the dataset to evaluate and price terrorism risk for their policies accurately. This can help them offer competitive premiums while maintaining profitability.\n",
        "\n",
        "Investment and Finance: Financial institutions and investors may use the dataset to evaluate the impact of terrorism on the stability and growth of economies, industries, and specific companies. The objective would be to make informed investment decisions and manage risk effectively.\n",
        "\n",
        "Travel and Tourism: Companies in the travel and tourism industry can use this dataset to provide information to travelers about potential safety concerns in specific destinations. The objective is to ensure the safety and satisfaction of their customers.\n",
        "\n",
        "Supply Chain Management: Businesses with global supply chains may use the dataset to identify regions with terrorism-related disruptions, helping them optimize their supply chain routes and diversify suppliers to reduce risk.\n",
        "\n",
        "Government and NGOs: Government agencies and non-governmental organizations can use the dataset to assess the effectiveness of counterterrorism policies and initiatives. The objective would be to refine strategies and allocate resources more efficiently.\n",
        "\n",
        "Media and News Reporting: Media organizations can use the dataset to provide up-to-date and accurate information about terrorism-related incidents worldwide, helping them deliver more informative and timely news.\n",
        "\n",
        "Research and Academia: Researchers and academic institutions may use the dataset to analyze trends and patterns in global terrorism, contributing to a deeper understanding of the phenomenon and the development of counterterrorism strategies.\n",
        "\n",
        "Corporate Social Responsibility (CSR): Companies with a strong CSR focus may use the dataset to assess the impact of their operations on regions affected by terrorism. The objective is to implement initiatives that contribute positively to these areas.\n",
        "\n",
        "Crisis Management: Companies operating in high-risk regions may use the dataset for crisis management and emergency response planning. The objective is to have a well-defined strategy in place in case of a terrorism-related incident.\n",
        "\n",
        "Marketing and Branding: Companies that want to demonstrate their commitment to safety and security may use the dataset to highlight their proactive measures in marketing and branding campaigns.\n",
        "\n",
        "It's essential to align the use of a global terrorism dataset with specific business objectives and tailor the analysis and actions accordingly to derive meaningful insights and value. Additionally, organizations should consider ethical and legal considerations when working with sensitive data like terrorism-related information."
      ],
      "metadata": {
        "id": "0HO2J2m9DlNf"
      }
    },
    {
      "cell_type": "markdown",
      "source": [
        "# **General Guidelines** : -  "
      ],
      "metadata": {
        "id": "mDgbUHAGgjLW"
      }
    },
    {
      "cell_type": "markdown",
      "source": [
        "1.   Well-structured, formatted, and commented code is required.\n",
        "2.   Exception Handling, Production Grade Code & Deployment Ready Code will be a plus. Those students will be awarded some additional credits.\n",
        "     \n",
        "     The additional credits will have advantages over other students during Star Student selection.\n",
        "       \n",
        "             [ Note: - Deployment Ready Code is defined as, the whole .ipynb notebook should be executable in one go\n",
        "                       without a single error logged. ]\n",
        "\n",
        "3.   Each and every logic should have proper comments.\n",
        "4. You may add as many number of charts you want. Make Sure for each and every chart the following format should be answered.\n",
        "        \n",
        "\n",
        "```\n",
        "# Chart visualization code\n",
        "```\n",
        "            \n",
        "\n",
        "*   Why did you pick the specific chart?\n",
        "*   What is/are the insight(s) found from the chart?\n",
        "* Will the gained insights help creating a positive business impact?\n",
        "Are there any insights that lead to negative growth? Justify with specific reason.\n",
        "\n",
        "5. You have to create at least 20 logical & meaningful charts having important insights.\n",
        "\n",
        "\n",
        "[ Hints : - Do the Vizualization in  a structured way while following \"UBM\" Rule.\n",
        "\n",
        "U - Univariate Analysis,\n",
        "\n",
        "B - Bivariate Analysis (Numerical - Categorical, Numerical - Numerical, Categorical - Categorical)\n",
        "\n",
        "M - Multivariate Analysis\n",
        " ]\n",
        "\n",
        "\n",
        "\n"
      ],
      "metadata": {
        "id": "ZrxVaUj-hHfC"
      }
    },
    {
      "cell_type": "markdown",
      "source": [
        "# ***Let's Begin !***"
      ],
      "metadata": {
        "id": "O_i_v8NEhb9l"
      }
    },
    {
      "cell_type": "markdown",
      "source": [
        "## ***1. Know our Data***"
      ],
      "metadata": {
        "id": "HhfV-JJviCcP"
      }
    },
    {
      "cell_type": "markdown",
      "source": [
        "### Import Libraries"
      ],
      "metadata": {
        "id": "Y3lxredqlCYt"
      }
    },
    {
      "cell_type": "code",
      "source": [
        "# Import Libraries\n",
        "# Import necessary libraries\n",
        "import pandas as pd  # For data manipulation\n",
        "import matplotlib.pyplot as plt  # For creating static plots\n",
        "import matplotlib.patches as mpatches  # For creating custom legends in plots\n",
        "import seaborn as sns  # For statistical data visualization\n",
        "import numpy as np  # For numerical operations\n",
        "plt.style.use('fivethirtyeight')  # Apply a specific plotting style\n",
        "import plotly.offline as py  # For creating interactive plots\n",
        "py.init_notebook_mode(connected=True)  # Initialize Plotly for notebook usage\n",
        "import plotly.graph_objs as go  # For Plotly interactive graphs\n",
        "import plotly.tools as tls  # Plotly tools and utilities\n",
        "import folium  # For creating interactive maps\n",
        "import folium.plugins  # Plugins for enhancing Folium maps\n",
        "from matplotlib import animation, rc  # For creating animations\n",
        "import io  # For input/output operations\n",
        "import base64  # For encoding/decoding binary data\n",
        "from IPython.display import HTML, display  # For displaying HTML content\n",
        "import warnings  # For suppressing warning messages\n",
        "warnings.filterwarnings('ignore')  # Ignore warnings\n",
        "import codecs  # For reading and writing encoded files\n",
        "from subprocess import check_output  # For executing shell commands\n"
      ],
      "metadata": {
        "id": "M8Vqi-pPk-HR"
      },
      "execution_count": null,
      "outputs": []
    },
    {
      "cell_type": "code",
      "source": [
        "# Install and import the Basemap library for creating maps and visualizing geographical data.\n",
        "# Basemap provides tools to draw maps with various projections, plot data points, and add map features.\n",
        "# Make sure to have the required packages installed using the given pip commands.\n",
        "# Documentation: [link to the Basemap documentation]\n",
        "# Note: As of my last training cut-off in September 2021, Basemap is commonly used, but there might be newer alternatives available.\n",
        "# Ensure you're using the most up-to-date libraries for your projects.\n",
        "\n",
        "\n",
        "!pip install basemap\n",
        "!pip install basemap-data\n",
        "\n",
        "from mpl_toolkits.basemap import Basemap"
      ],
      "metadata": {
        "id": "b2voNtMdpz3K"
      },
      "execution_count": null,
      "outputs": []
    },
    {
      "cell_type": "markdown",
      "source": [
        "### Dataset Loading"
      ],
      "metadata": {
        "id": "3RnN4peoiCZX"
      }
    },
    {
      "cell_type": "code",
      "source": [
        "# This code snippet demonstrates the use of the chardet library to detect the character encoding of a given CSV file.\n",
        "file = \"/content/Global_Terrorism_Data.csv\"\n",
        "import chardet\n",
        "\n",
        "# The file path is specified, and the chardet library is used to analyze the first 100,000 bytes of the file's raw binary data.\n",
        "with open(file, 'rb') as rawdata:\n",
        "    result = chardet.detect(rawdata.read(100000))\n",
        "\n",
        "# The detected character encoding information is then stored in the 'result' variable, which can be used to determine the appropriate encoding for reading the file.\n",
        "result"
      ],
      "metadata": {
        "id": "S1JRSuP8Imsx"
      },
      "execution_count": null,
      "outputs": []
    },
    {
      "cell_type": "code",
      "source": [
        "# Load Dataset\n",
        "terror_df = pd.read_csv(file, encoding = 'ISO-8859-1')"
      ],
      "metadata": {
        "id": "4CkvbW_SlZ_R"
      },
      "execution_count": null,
      "outputs": []
    },
    {
      "cell_type": "code",
      "source": [
        "# Using the type() function to identify the data type of the variable 'terror_df'.\n",
        "# This helps in understanding the nature of the data stored in 'terror_df'.\n",
        "type(terror_df)"
      ],
      "metadata": {
        "id": "lD9_nB6cc_Yj"
      },
      "execution_count": null,
      "outputs": []
    },
    {
      "cell_type": "markdown",
      "source": [
        "### Dataset First View"
      ],
      "metadata": {
        "id": "x71ZqKXriCWQ"
      }
    },
    {
      "cell_type": "code",
      "source": [
        "# Dataset head Look\n",
        "terror_df.head() # Display the first 5 rows of the DataFrame."
      ],
      "metadata": {
        "id": "LWNFOSvLl09H"
      },
      "execution_count": null,
      "outputs": []
    },
    {
      "cell_type": "code",
      "source": [
        "# Dataset tail Look\n",
        "terror_df.tail()  # Display the last 5 rows of the DataFrame"
      ],
      "metadata": {
        "id": "L-CXte9_FCUW"
      },
      "execution_count": null,
      "outputs": []
    },
    {
      "cell_type": "markdown",
      "source": [
        "### Dataset Rows & Columns count"
      ],
      "metadata": {
        "id": "7hBIi_osiCS2"
      }
    },
    {
      "cell_type": "code",
      "source": [
        "# Display the number of rows in the dataset using the 'shape' attribute\n",
        "print(f'Number of rows in the data set is {terror_df.shape[0]}')\n",
        "\n",
        "# Display the number of columns in the dataset using the 'shape' attribute\n",
        "print(f'Number of Columns in the data set is {terror_df.shape[1]}')"
      ],
      "metadata": {
        "id": "Mmf3dB3Vh1ak"
      },
      "execution_count": null,
      "outputs": []
    },
    {
      "cell_type": "markdown",
      "source": [
        "### Dataset Information"
      ],
      "metadata": {
        "id": "tuyifRPt4DP9"
      }
    },
    {
      "cell_type": "code",
      "source": [
        "# Select and display information about columns in the DataFrame 'terror_df'\n",
        "# that have data types either 'object' (typically strings) or 'int64' (integer numbers).\n",
        "# This code filters the DataFrame to include only these specific data types,\n",
        "# and then uses the 'info()' method to provide a summary of the selected columns.\n",
        "terror_df.select_dtypes(include=['object', 'int64']).info()"
      ],
      "metadata": {
        "id": "gG0kx-fnfJUU"
      },
      "execution_count": null,
      "outputs": []
    },
    {
      "cell_type": "markdown",
      "source": [
        "#### Duplicate Values"
      ],
      "metadata": {
        "id": "35m5QtbWiB9F"
      }
    },
    {
      "cell_type": "code",
      "source": [
        "# Dataset Duplicate Value Count\n",
        "duplicate_counts = terror_df.duplicated(keep=False).sum()\n",
        "\n",
        "# Display the count of duplicate rows\n",
        "print(\"Number of duplicate rows:\", duplicate_counts)"
      ],
      "metadata": {
        "id": "1sLdpKYkmox0"
      },
      "execution_count": null,
      "outputs": []
    },
    {
      "cell_type": "markdown",
      "source": [
        "#### Missing Values/Null Values"
      ],
      "metadata": {
        "id": "ZjH27tOQILhU"
      }
    },
    {
      "cell_type": "code",
      "source": [
        "# Missing Values/Null Values Count\n",
        "# Count missing values in each column\n",
        "missing_values_count = terror_df.isnull().sum()\n",
        "\n",
        "# Display the counts\n",
        "print(missing_values_count)"
      ],
      "metadata": {
        "id": "XUCFbROVIMlx"
      },
      "execution_count": null,
      "outputs": []
    },
    {
      "cell_type": "code",
      "source": [
        "# Visualizing the missing values\n",
        "plt.figure(figsize=(15,5))\n",
        "sns.heatmap(terror_df.isnull(),cmap='plasma',annot=False,yticklabels=False)\n",
        "plt.title(\" Visualising Missing Values\")"
      ],
      "metadata": {
        "id": "JpCy_iIXIMxf"
      },
      "execution_count": null,
      "outputs": []
    },
    {
      "cell_type": "markdown",
      "source": [
        "### What did you know about your dataset?"
      ],
      "metadata": {
        "id": "H0kj-8xxnORC"
      }
    },
    {
      "cell_type": "markdown",
      "source": [
        "#### The data set has 181691 rows 135 columns.\n",
        "#### Data types our data set are: float64(77), int64(4), object(54).\n",
        "#### Zero Duplicate values/rows."
      ],
      "metadata": {
        "id": "gfoNAAC-nUe_"
      }
    },
    {
      "cell_type": "markdown",
      "source": [
        "## ***2. Understanding Your Variables***\n",
        "\n"
      ],
      "metadata": {
        "id": "nA9Y7ga8ng1Z"
      }
    },
    {
      "cell_type": "code",
      "source": [
        "# Dataset Columns\n",
        "terror_df.columns"
      ],
      "metadata": {
        "id": "j7xfkqrt5Ag5"
      },
      "execution_count": null,
      "outputs": []
    },
    {
      "cell_type": "code",
      "source": [
        "# Dataset Describe\n",
        "terror_df.describe(include='all')"
      ],
      "metadata": {
        "id": "DnOaZdaE5Q5t"
      },
      "execution_count": null,
      "outputs": []
    },
    {
      "cell_type": "markdown",
      "source": [
        "### Variables Description"
      ],
      "metadata": {
        "id": "PBTbrJXOngz2"
      }
    },
    {
      "cell_type": "markdown",
      "source": [
        "**Answer Here.**\n",
        "\n",
        "\n",
        "Incident Information:\n",
        "\n",
        "eventid: A unique identifier for each incident.\n",
        "\n",
        "iyear: The year in which the incident occurred.\n",
        "\n",
        "imonth and iday: The month and day of the incident, respectively.\n",
        "\n",
        "country and region: The country and region where the incident occurred.\n",
        "\n",
        "provstate: The province or state within the country where the incident took place.\n",
        "\n",
        "city: The city where the incident occurred.\n",
        "\n",
        "latitude and longitude: Geographic coordinates of the incident location.\n",
        "\n",
        "specificity: Indicates the level of geographic specificity (e.g., city, region) of the incident's location.\n",
        "Attack Information:\n",
        "attacktype1, attacktype2, attacktype3: The primary, secondary, and tertiary attack types, categorizing the nature of the attack (e.g., assassination, bombing, hijacking).\n",
        "\n",
        "weaptype1, weaptype2, weaptype3: The primary, secondary, and tertiary weapon types used in the attack (e.g., explosives, firearms, chemical weapons).\n",
        "\n",
        "Target Information:targtype1, targtype2, targtype3: The primary, secondary, and tertiary target types of the attack (e.g., civilians, military, government).\n",
        "\n",
        "nkill: The number of confirmed fatalities in the incident.\n",
        "\n",
        "nwound: The number of confirmed injuries in the incident.\n",
        "\n",
        "nkillter: The number of perpetrators killed during the incident.\n",
        "\n",
        "Perpetrator Information:\n",
        "\n",
        "gname: The name of the group responsible for the attack.\n",
        "\n",
        "motive: The perceived motive behind the attack.\n",
        "\n",
        "guncertain1, guncertain2, guncertain3: Indicates whether the responsible group is uncertain for the primary, secondary, and tertiary groups involved.\n",
        "\n",
        "Additional Information:\n",
        "\n",
        "summary: A narrative description of the incident.\n",
        "\n",
        "dbsource: The source of the data for the incident.\n",
        "\n",
        "related: Indicates if the incident is related to another incident in the database.\n",
        "\n",
        "propextent: Extent of property damage (e.g., unknown, major, minor).\n",
        "\n",
        "propvalue: Value of the damaged property.\n",
        "\n",
        "ishostkid: Indicates whether hostages were taken during the incident.\n",
        "\n",
        "ransom: Indicates if a ransom was demanded or paid.\n",
        "\n",
        "ransompaid: Amount of ransom paid, if applicable.\n",
        "hostkidoutcome: Outcome of the hostage-taking incident."
      ],
      "metadata": {
        "id": "aJV4KIxSnxay"
      }
    },
    {
      "cell_type": "markdown",
      "source": [
        "### Check Unique Values for each variable."
      ],
      "metadata": {
        "id": "u3PMJOP6ngxN"
      }
    },
    {
      "cell_type": "code",
      "source": [
        "# Check Unique Values for each variable.\n",
        "for col in terror_df.columns:\n",
        "  print(f'Number of unique values in {col} column is {terror_df[col].nunique()}')"
      ],
      "metadata": {
        "id": "Q9M4Wwn6wqIe"
      },
      "execution_count": null,
      "outputs": []
    },
    {
      "cell_type": "markdown",
      "source": [
        "## 3. ***Data Wrangling***"
      ],
      "metadata": {
        "id": "dauF4eBmngu3"
      }
    },
    {
      "cell_type": "markdown",
      "source": [
        "### Data Wrangling Code"
      ],
      "metadata": {
        "id": "bKJF3rekwFvQ"
      }
    },
    {
      "cell_type": "code",
      "source": [
        "# Write your code to make your dataset analysis ready.\n",
        "# Renaming the dataset features.\n",
        "terror_df.rename(columns={'iyear':'Year', 'imonth':'Month', 'iday':'Day', 'country':'Country_num', 'country_txt':'Country',\n",
        "                          'region':'Region_num', 'weaptype1':'Weapon_Type', 'attacktype1':'Attack_type_num',\n",
        "                          'targtype1':'Target_type_num', 'targsubtype1':'Target_subType_num', 'target1':'Target_1',\n",
        "                          'provstate':'State', 'region_txt':'Region', 'nwound':'Wounded', 'nkill':'Killed',\n",
        "                          'natlty1_txt':'Nationality', 'natlty1':'Nationality_num', 'city':'City',\n",
        "                          'city_num':'City_num', 'target1_num':'Target_num', 'attacktype1_txt':'Attack_Type'},\n",
        "                inplace=True)\n"
      ],
      "metadata": {
        "id": "wk-9a2fpoLcV"
      },
      "execution_count": null,
      "outputs": []
    },
    {
      "cell_type": "code",
      "source": [
        "# For correlation heat map we create a column for City name and name it as city_num.\n",
        "\n",
        "# Extracting unique values from the 'City' column in the DataFrame\n",
        "unique_values = terror_df['City'].unique()\n",
        "\n",
        "\n",
        "# Creating a dictionary where unique values are keys and their corresponding index values are values\n",
        "value_to_num = {value: idx for idx, value in enumerate(unique_values)}\n",
        "\n",
        "\n",
        "# Mapping the values in the 'City' column to their corresponding numerical representation\n",
        "terror_df['City_num'] = terror_df['City'].map(value_to_num)"
      ],
      "metadata": {
        "id": "oBA-ZLfmN7Wu"
      },
      "execution_count": null,
      "outputs": []
    },
    {
      "cell_type": "code",
      "source": [
        "# For correlation heat map we create a column for Target name and name it as Target_num.\n",
        "# Extracting unique values from the 'Target_1' column in the DataFrame\n",
        "unique_values = terror_df['Target_1'].unique()\n",
        "\n",
        "# Creating a dictionary where unique values are keys and their corresponding index values are values\n",
        "value_to_num = {value: idx for idx, value in enumerate(unique_values)}\n",
        "\n",
        "# Mapping the values in the 'Target_1' column to their corresponding numerical representation\n",
        "terror_df['Target1_num'] = terror_df['Target_1'].map(value_to_num)"
      ],
      "metadata": {
        "id": "7Hfew1dLN7TY"
      },
      "execution_count": null,
      "outputs": []
    },
    {
      "cell_type": "code",
      "source": [
        "# Create a dataset for Correlation heat map.\n",
        "corr_data_df = terror_df[['Year','City_num','Target1_num','Killed','Wounded',\n",
        "                          'Weapon_Type','Nationality_num','Country_num','Region_num'\n",
        "                          ,'Attack_type_num','Target_type_num','Target_subType_num']]\n"
      ],
      "metadata": {
        "id": "w3Y3iiExN7QZ"
      },
      "execution_count": null,
      "outputs": []
    },
    {
      "cell_type": "code",
      "source": [
        "# Renaming the columns of corr_data_df\n",
        "corr_data_df.rename(columns={'City_num':'City','Target1_num':'Target1','Nationality_num':'Nationality',\n",
        "                             'Country_num':'Country','Region_num':'Region','Attack_type_num':'Attack_type'\n",
        "                             ,'Target_type_num':'Target_type','Target_subType_num':'Target_subType'},inplace=True)"
      ],
      "metadata": {
        "id": "nuAGygQmN7Np"
      },
      "execution_count": null,
      "outputs": []
    },
    {
      "cell_type": "code",
      "source": [
        "# Fill Missing Data\n",
        "# - Fill missing values in the 'Killed' column with the mean of non-missing values.\n",
        "corr_data_df['Killed'].fillna(corr_data_df['Killed'].mean(), inplace=True)\n",
        "\n",
        "# - Fill missing values in the 'Wounded' column with the mean of non-missing values.\n",
        "corr_data_df['Wounded'].fillna(corr_data_df['Wounded'].mean(), inplace=True)\n",
        "\n",
        "# - Fill missing values in the 'Nationality' column with the most common nationality.\n",
        "corr_data_df['Nationality'].fillna(corr_data_df['Nationality'].mode()[0], inplace=True)\n",
        "\n",
        "# - Fill missing values in the 'Target_subType' column with the most common target subtype.\n",
        "corr_data_df['Target_subType'].fillna(corr_data_df['Target_subType'].mode()[0], inplace=True)"
      ],
      "metadata": {
        "id": "Bg53DOGIN7KJ"
      },
      "execution_count": null,
      "outputs": []
    },
    {
      "cell_type": "code",
      "source": [
        "# Accessing the data type of the 'iyear' column, which likely represents the incident year\n",
        "data_type_iyear = terror_df.dtypes['Year']"
      ],
      "metadata": {
        "id": "-CQ179JRhICC"
      },
      "execution_count": null,
      "outputs": []
    },
    {
      "cell_type": "code",
      "source": [
        "# Print the unique values in the 'iyear' column of the 'terror_df' DataFrame.\n",
        "print(terror_df['Year'].unique())"
      ],
      "metadata": {
        "id": "pfa8pAm9A6TR"
      },
      "execution_count": null,
      "outputs": []
    },
    {
      "cell_type": "code",
      "source": [
        "# Selecting relevant columns from the terror_df DataFrame\n",
        "# Extracting information about the year, target, nationality, country, region, city,attack type, target type, and target subtype of each terror incident.\n",
        "\n",
        "terror_data_selection = terror_df[['Year', 'Target_1', 'Nationality_num', 'Country_num', 'Region_num', 'City',\n",
        "                                   'Attack_type_num', 'Target_type_num', 'Target_subType_num']]\n"
      ],
      "metadata": {
        "id": "blVf0u7zhH-v"
      },
      "execution_count": null,
      "outputs": []
    },
    {
      "cell_type": "code",
      "source": [
        "# Extracting specific columns from the 'terror_df' DataFrame to create a new DataFrame 'dating_data_df'\n",
        "# This new DataFrame will contain selected columns related to terrorist attacks data.\n",
        "# Columns selected include: Year, City_num, Target1_num, Killed, Wounded, Weapon_Type, Nationality_num,\n",
        "# Country_num, Region_num, Attack_type_num, Target_type_num, Target_subType_num\n",
        "dating_data_df = terror_df[['Year', 'City_num', 'Target1_num', 'Killed', 'Wounded', 'Weapon_Type',\n",
        "                            'Nationality_num', 'Country_num', 'Region_num', 'Attack_type_num',\n",
        "                            'Target_type_num', 'Target_subType_num']]"
      ],
      "metadata": {
        "id": "grLUWRyoKi-5"
      },
      "execution_count": null,
      "outputs": []
    },
    {
      "cell_type": "code",
      "source": [
        "# Renaming columns in the 'dating_data_df' DataFrame for better readability\n",
        "# Mapping numerical column names to their corresponding descriptive names\n",
        "dating_data_df.rename(columns={\n",
        "    'City_num': 'City',                   # Rename City_num column to City\n",
        "    'Target1_num': 'Target1',             # Rename Target1_num column to Target1\n",
        "    'Nationality_num': 'Nationality',     # Rename Nationality_num column to Nationality\n",
        "    'Country_num': 'Country',             # Rename Country_num column to Country\n",
        "    'Region_num': 'Region',               # Rename Region_num column to Region\n",
        "    'Attack_type_num': 'Attack_type',     # Rename Attack_type_num column to Attack_type\n",
        "    'Target_type_num': 'Target_type',     # Rename Target_type_num column to Target_type\n",
        "    'Target_subType_num': 'Target_subType'  # Rename Target_subType_num column to Target_subType\n",
        "}, inplace=True)\n"
      ],
      "metadata": {
        "id": "U6VGeJJGSoS8"
      },
      "execution_count": null,
      "outputs": []
    },
    {
      "cell_type": "code",
      "source": [
        "# Fill missing values in the 'Killed' column with the mean of non-missing values\n",
        "dating_data_df['Killed'].fillna(dating_data_df['Killed'].mean(), inplace=True)\n",
        "\n",
        "# Fill missing values in the 'Wounded' column with the mean of non-missing values\n",
        "dating_data_df['Wounded'].fillna(dating_data_df['Wounded'].mean(), inplace=True)\n",
        "\n",
        "# Fill missing values in the 'Nationality' column with the mode (most frequent value) of the column\n",
        "# This is useful for categorical variables\n",
        "dating_data_df['Nationality'].fillna(dating_data_df['Nationality'].mode()[0], inplace=True)\n",
        "\n",
        "# Fill missing values in the 'Target_subType' column with the mode (most frequent value) of the column\n",
        "# This is useful for categorical variables\n",
        "dating_data_df['Target_subType'].fillna(dating_data_df['Target_subType'].mode()[0], inplace=True)\n"
      ],
      "metadata": {
        "id": "2XC35eG9SoWa"
      },
      "execution_count": null,
      "outputs": []
    },
    {
      "cell_type": "code",
      "source": [
        "# Count the occurrences of terrorist incidents for each year in the 'iyear' column of the terror_df DataFrame.\n",
        "Count_terrorist_incidents = terror_df['Year'].value_counts()"
      ],
      "metadata": {
        "id": "iC2u6FVLU84C"
      },
      "execution_count": null,
      "outputs": []
    },
    {
      "cell_type": "code",
      "source": [
        "# Checking the data type of the variable Count_terrorist_incidents\n",
        "type(Count_terrorist_incidents)"
      ],
      "metadata": {
        "id": "uueYlsfObv4k"
      },
      "execution_count": null,
      "outputs": []
    },
    {
      "cell_type": "code",
      "source": [
        "# This code takes a DataFrame 'd', which likely contains a time-based index and a corresponding count,\n",
        "year_df = pd.DataFrame(Count_terrorist_incidents.reset_index())\n",
        "\n",
        "# and transforms it into a new DataFrame 'year_df'. It resets the index of 'd' to create a Year column,\n",
        "year_df.columns = ['Year','Count']\n",
        "\n",
        "# renames the columns to 'Year' and 'Count', and sorts the DataFrame based on the 'Year' column.\n",
        "year_df = year_df.sort_values(by=[\"Year\"])\n"
      ],
      "metadata": {
        "id": "GjcvarOu_Uus"
      },
      "execution_count": null,
      "outputs": []
    },
    {
      "cell_type": "code",
      "source": [
        "# Calculate the average number of terror attacks per year from 1970 to 1975\n",
        "teror_atk_fst_5_year = year_df[\"Count\"][0:6].mean()\n",
        "print(\"Average number of Terror attacks per year from 1970 to 1975 are \", teror_atk_fst_5_year)\n",
        "\n",
        "# Calculate the overall average number of terror attacks per year from 1970 to 2017\n",
        "mean_of_teror_atk = year_df[\"Count\"].mean()\n",
        "print(\"Average number of Terror attacks per year from 1970 to 2017 are \", mean_of_teror_atk)\n",
        "\n",
        "# Calculate the average number of terror attacks per year from 2013 to 2017\n",
        "teror_atk_last_5_year = year_df[\"Count\"][-5:].mean()\n",
        "print(\"Average number of Terror attacks per year from 2013 to 2017 are \", teror_atk_last_5_year)"
      ],
      "metadata": {
        "id": "ZjMW2Z1oShUu"
      },
      "execution_count": null,
      "outputs": []
    },
    {
      "cell_type": "code",
      "source": [
        "# Filter the 'terror_df' DataFrame to include only rows with years greater than or equal to 2000.\n",
        "rcnt_terror = terror_df[terror_df[\"Year\"] >= 2000]"
      ],
      "metadata": {
        "id": "8N9lMQVSShDE"
      },
      "execution_count": null,
      "outputs": []
    },
    {
      "cell_type": "code",
      "source": [
        "# Calculate the frequency of occurrences for each unique value in the \"region_txt\" column of the rcnt_terror DataFrame\n",
        "rgn_series = rcnt_terror[\"Region\"].value_counts()"
      ],
      "metadata": {
        "id": "_9fEbaBFSg_i"
      },
      "execution_count": null,
      "outputs": []
    },
    {
      "cell_type": "code",
      "source": [
        "# Create a DataFrame 'region_df' from the reset index of the 'rgn_series'.\n",
        "region_df = pd.DataFrame(rgn_series.reset_index())\n",
        "\n",
        "# Rename the columns of the DataFrame to 'Region' and 'Count'.\n",
        "region_df.columns = ['Region', 'Count']\n"
      ],
      "metadata": {
        "id": "KZGOPTo1Sg5u"
      },
      "execution_count": null,
      "outputs": []
    },
    {
      "cell_type": "code",
      "source": [
        "# Retrieves an array of unique values from the \"Region\" column of the region_df DataFrame.\n",
        "region_df[\"Region\"].unique()\n",
        "type(region_df)"
      ],
      "metadata": {
        "id": "YqiQbDsmLLjS"
      },
      "execution_count": null,
      "outputs": []
    },
    {
      "cell_type": "code",
      "source": [
        "# Count the occurrences of each country's name in the \"country_txt\" column\n",
        "cntry_series = rcnt_terror[\"Country\"].value_counts()"
      ],
      "metadata": {
        "id": "BGCfS7AThPEC"
      },
      "execution_count": null,
      "outputs": []
    },
    {
      "cell_type": "code",
      "source": [
        "# Convert a country series into a DataFrame, reset index to have 'Country' and 'Count' columns.\n",
        "country_df = pd.DataFrame(cntry_series.reset_index())\n",
        "\n",
        "# Rename the columns of the DataFrame to 'Country' and 'Count'.\n",
        "country_df.columns = ['Country', 'Count']"
      ],
      "metadata": {
        "id": "a5CCGCsVDoGZ"
      },
      "execution_count": null,
      "outputs": []
    },
    {
      "cell_type": "code",
      "source": [
        "# Filter the 'terror_df' DataFrame to select rows where the country is \"India\"\n",
        "india_atk_type = terror_df[terror_df[\"Country\"] == \"India\"]"
      ],
      "metadata": {
        "id": "wJ43l_Mhh30y"
      },
      "execution_count": null,
      "outputs": []
    },
    {
      "cell_type": "markdown",
      "source": [
        "### What all manipulations have you done and insights you found?"
      ],
      "metadata": {
        "id": "MSa1f5Uengrz"
      }
    },
    {
      "cell_type": "markdown",
      "source": [
        "Due to its extensive size, consisting of 135 columns, these columns hold a significant portion of the dataset, but attempting to learn from them is not practical. Therefore, our approach will involve renaming the column labels to enhance comprehension and subsequently extracting only the essential columns."
      ],
      "metadata": {
        "id": "LbyXE7I1olp8"
      }
    },
    {
      "cell_type": "markdown",
      "source": [
        "## ***4. Data Vizualization, Storytelling & Experimenting with charts : Understand the relationships between variables***"
      ],
      "metadata": {
        "id": "GF8Ens_Soomf"
      }
    },
    {
      "cell_type": "markdown",
      "source": [
        "#### Chart - 1  visualization code"
      ],
      "metadata": {
        "id": "KSlN3yHqYklG"
      }
    },
    {
      "cell_type": "markdown",
      "source": [
        "# First, we see the variation of number of attacks over the years."
      ],
      "metadata": {
        "id": "8prLDQgSOmc3"
      }
    },
    {
      "cell_type": "code",
      "source": [
        "# visualization code\n",
        "\n",
        "# The figsize parameter sets the dimensions of the plot to (15, 6) for better visibility.\n",
        "plt.subplots(figsize=(15,6))\n",
        "\n",
        "# The seaborn countplot function is used with the 'terror_df' DataFrame, plotting the count of activities for each year.\n",
        "# The 'edgecolor' parameter sets the color of the bar edges using a darker shade from the 'dark' palette.\n",
        "ax = sns.countplot(data=terror_df, x=terror_df['Year'] ,palette='crest',edgecolor=sns.color_palette('dark',7))\n",
        "\n",
        "# The 'plt.xticks(rotation=90)' rotates the x-axis labels by 90 degrees for better readability.\n",
        "plt.xticks(rotation=90)\n",
        "\n",
        "# The 'plt.title' function sets the title of the plot to 'Number Of Terrorist Activities Each Year'.\n",
        "plt.title('Number Of Terrorist Activities Each Year')\n",
        "\n",
        "\n",
        "# Annotating each bar with its count\n",
        "for p in ax.patches:\n",
        "    ax.annotate(format(p.get_height(), '.0f'),\n",
        "                (p.get_x() + p.get_width() / 2., p.get_height()),\n",
        "                ha = 'center', va = 'center',\n",
        "                xytext = (0, 9),\n",
        "                textcoords = 'offset points')\n",
        "\n",
        "\n",
        "# Finally, 'plt.show()' displays the plot.\n",
        "plt.show()\n",
        "\n",
        "# Selecting the 'iyear' column from the 'terror_df' DataFrame and creating a histogram plot to visualize the distribution of years.\n",
        "t_df = terror_df[['Year']]\n",
        "t_df.plot(kind='hist')"
      ],
      "metadata": {
        "id": "G_-oRM-vzDb3"
      },
      "execution_count": null,
      "outputs": []
    },
    {
      "cell_type": "markdown",
      "source": [
        "##### **1. Why did you pick the specific chart?**"
      ],
      "metadata": {
        "id": "t6dVpIINYklI"
      }
    },
    {
      "cell_type": "code",
      "source": [
        "# Selecting the 'iyear' column from the 'terror_df' DataFrame and creating a histogram plot to visualize the distribution of years.\n",
        "t_df = terror_df[['Year']]\n",
        "t_df.plot(kind='hist')"
      ],
      "metadata": {
        "id": "-_edtHxyzrq0"
      },
      "execution_count": null,
      "outputs": []
    },
    {
      "cell_type": "markdown",
      "source": [
        "**Answer Here.**\n",
        "It gives us the variation in number of terrorist activities over the years."
      ],
      "metadata": {
        "id": "5aaW0BYyYklI"
      }
    },
    {
      "cell_type": "markdown",
      "source": [
        "##### **2. What is/are the insight(s) found from the chart?**"
      ],
      "metadata": {
        "id": "ijmpgYnKYklI"
      }
    },
    {
      "cell_type": "code",
      "source": [
        "# Create a bar plot to visualize the distribution of terrorist activities over the years.\n",
        "# The figsize parameter sets the dimensions of the plot to (15, 6) for better visibility.\n",
        "plt.subplots(figsize=(15,6))\n",
        "\n",
        "# The seaborn countplot function is used with the 'terror_df' DataFrame, plotting the count of activities for each year.\n",
        "# The 'edgecolor' parameter sets the color of the bar edges using a darker shade from the 'dark' palette.\n",
        "ax = sns.countplot(data=terror_df, x=terror_df['Year'] ,palette='crest',edgecolor=sns.color_palette('dark',7))\n",
        "\n",
        "# The 'plt.xticks(rotation=90)' rotates the x-axis labels by 90 degrees for better readability.\n",
        "plt.xticks(rotation=90)\n",
        "\n",
        "# The 'plt.title' function sets the title of the plot to 'Number Of Terrorist Activities Each Year'.\n",
        "plt.title('Number Of Terrorist Activities Each Year')\n",
        "\n",
        "\n",
        "# Annotating each bar with its count\n",
        "for p in ax.patches:\n",
        "    ax.annotate(format(p.get_height(), '.0f'),\n",
        "                (p.get_x() + p.get_width() / 2., p.get_height()),\n",
        "                ha = 'center', va = 'center',\n",
        "                xytext = (0, 9),\n",
        "                textcoords = 'offset points')\n",
        "\n",
        "\n",
        "# Finally, 'plt.show()' displays the plot.\n",
        "plt.show()"
      ],
      "metadata": {
        "id": "R4YgtaqtYklH"
      },
      "execution_count": null,
      "outputs": []
    },
    {
      "cell_type": "code",
      "source": [
        "# Calculate the count of terrorist attacks per year and store it as a dictionary\n",
        "count_year = terror_df.Year.value_counts().to_dict()\n",
        "\n",
        "# Calculate the percentage increase in attacks from 1970 to 2017\n",
        "rate = ((count_year[2017] - count_year[1970]) / count_year[1970]) * 100\n",
        "\n",
        "# Print the counts of attacks in 1970 and 2017\n",
        "print(count_year[1970], 'attacks happened in 1970 &', count_year[2017], 'attacks happened in 2017')\n",
        "\n",
        "# Print the percentage increase in attacks from 1970 to 2017\n",
        "print('So the number of attacks has increased by', np.round(rate, 2), '% from 1970 to 2017')"
      ],
      "metadata": {
        "id": "I4SmTIRhnC7Y"
      },
      "execution_count": null,
      "outputs": []
    },
    {
      "cell_type": "code",
      "source": [
        "# Calculate the average number of terror attacks per year for the initial five years from 1970 to 1975\n",
        "teror_atk_fst_5_year = year_df[\"Count\"][0:6].mean()\n",
        "\n",
        "# Display the calculated average number of terror attacks for the specified period\n",
        "print(\"Average number of Terror attacks per year from 1970 to 1975: \", teror_atk_fst_5_year)\n",
        "\n",
        "# Calculating Overall Average (1970-2017)\n",
        "\n",
        "mean_of_teror_atk=year_df[\"Count\"].mean()\n",
        "print(\"Average number of Terror attacks per year from 1970 to 2017 are \" ,mean_of_teror_atk)\n",
        "\n",
        "#This part determines the average number of terrorist attacks per year for the last 5 years (2013-2017) by utilizing the last 5 elements of the \"Count\" column in the DataFrame.\n",
        "#The outcome is displayed via the print statement.\n",
        "\n",
        "teror_atk_last_5_year = year_df[\"Count\"][-5:].mean()\n",
        "print(\"Average number of Terror attacks per year from 2013 to 2017 are \" ,teror_atk_last_5_year)"
      ],
      "metadata": {
        "id": "hRhNJUQytXJv"
      },
      "execution_count": null,
      "outputs": []
    },
    {
      "cell_type": "markdown",
      "source": [
        "**Answer Here.**\n",
        "\n",
        "*   651 attacks happened in 1970 & 10900 attacks happened in 2017.\n",
        "*   So the number of attacks has increased by 1574.35 % from 1970 to 2017.\n",
        "*   Average number of Terror attacks per year from 1970 to 1975:  580.666666.\n",
        "*   Average number of Terror attacks per year from 1970 to 2017 are 3865.7659.\n",
        "\n",
        "*   Average number of Terror attacks per year from 2013 to 2017 are  13678.2."
      ],
      "metadata": {
        "id": "15tOpGcY19sL"
      }
    },
    {
      "cell_type": "markdown",
      "source": [
        "##### **3. Will the gained insights help creating a positive business impact?Are there any insights that lead to negative growth? Justify with specific reason.**"
      ],
      "metadata": {
        "id": "-JiQyfWJYklI"
      }
    },
    {
      "cell_type": "markdown",
      "source": [
        "**Answer Here.**\n",
        "\n",
        "From the year 1970 there is a wave of rise in terrorist activities till 1992 then till 2004 there is a drop in terrorist activities and From 2004 to 2015 there is a steeper wave of rise in terrorist activities.\n",
        "\n",
        "No there are no insights that to negative growth.\n",
        "\n",
        "From the above pattern of waves of terrorist activites it seems that there chould be possibilty of drop in terrorist activities and again there is a rise in terrorist activities which is much steeper and larger than previous two waves.\n",
        "\n",
        "Over the Years number of Terrorist attacks are increasing which means that measures taken to prevent attacks are not enough.\n",
        "\n",
        "There need to be taken more preventive measures against these terrorist groups and smuggling of weapons."
      ],
      "metadata": {
        "id": "PSx9atu2YklI"
      }
    },
    {
      "cell_type": "markdown",
      "source": [
        "#### **Chart - 2**"
      ],
      "metadata": {
        "id": "EM7whBJCYoAo"
      }
    },
    {
      "cell_type": "markdown",
      "source": [
        "# We visualize the Regions and Countries most affected by which type of terrorist attack over the years???"
      ],
      "metadata": {
        "id": "Sp4VchCGOwX_"
      }
    },
    {
      "cell_type": "code",
      "source": [
        "#  visualization code\n",
        "\n",
        "# This line filters the original dataset terror_df to include only rows where the \"Year\" column is greater than or equal to 2000.\n",
        "# This creates a new DataFrame called rcnt_terror containing recent terrorism data.\n",
        "\n",
        "terror_copy = terror_df.copy()\n",
        "\n",
        "# This line calculates the frequency of occurrences for each unique value in the \"Region\" column of the rcnt_terror DataFrame.\n",
        "# The result is a Series called rgn_series where the index represents different regions, and the values represent the counts of occurrences for each region.\n",
        "\n",
        "rgn_series = terror_copy[\"Region\"].value_counts()\n",
        "\n",
        "region_df = pd.DataFrame(rgn_series.reset_index())\n",
        "region_df.columns = ['Region','Count']\n",
        "\n",
        "# Calculate the frequency of terrorist incidents by country and region\n",
        "# and store the results in separate series for further analysis.\n",
        "\n",
        "cntry_series = terror_copy[\"Country\"].value_counts()  # Count incidents by country\n",
        "\n",
        "country_df = pd.DataFrame(cntry_series.reset_index())\n",
        "country_df.columns = ['Country','Count']"
      ],
      "metadata": {
        "id": "eoReChsXt9cT"
      },
      "execution_count": null,
      "outputs": []
    },
    {
      "cell_type": "code",
      "source": [
        "# Create a cross-tabulation of 'Year' and 'Region' columns from the dataset terror_copy\n",
        "terror_region = pd.crosstab(terror_copy.Year, terror_copy.Region)\n",
        "\n",
        "# Plot an area chart for the variation in the number of terrorist activities across regions over the years\n",
        "terror_region.plot(color=sns.color_palette('bright', 12), kind=\"area\")\n",
        "\n",
        "# Set the size of the figure\n",
        "fig = plt.gcf()\n",
        "fig.set_size_inches(15, 6)\n",
        "\n",
        "# Set plot title\n",
        "plt.title(\"Variation in the Number of Terrorist Activities Across Regions over the years\")\n",
        "\n",
        "# Display the plot\n",
        "plt.show()"
      ],
      "metadata": {
        "id": "VDung-une6fM"
      },
      "execution_count": null,
      "outputs": []
    },
    {
      "cell_type": "code",
      "source": [
        "#custom_params = {\"axes.spines.right\": False, \"axes.spines.top\": False}\n",
        "#sns.set_theme(style=\"ticks\", rc=custom_params)\n",
        "\n",
        "plt.subplots(figsize=(15,6))\n",
        "\n",
        "bar_plot = sns.barplot(x=region_df[\"Region\"].head(15),y=region_df[\"Count\"].head(15),data=region_df,palette=\"colorblind\")\n",
        "plt.xticks(rotation=90)\n",
        "plt.title(\"Top 15 Region's having highest number Of terrorist activities over the years\")\n",
        "# Annotate each bar with its count\n",
        "for index, value in enumerate(region_df[\"Count\"].head(15)):\n",
        "    bar_plot.text(index, value + 1, str(value), ha='center', va='bottom', fontsize=10)\n",
        "plt.show()"
      ],
      "metadata": {
        "id": "Jl7TW1h6RfkC"
      },
      "execution_count": null,
      "outputs": []
    },
    {
      "cell_type": "code",
      "source": [
        "# Set the figure size\n",
        "plt.subplots(figsize=(15, 6))\n",
        "\n",
        "# Create a bar plot using Seaborn\n",
        "bar_plot = sns.barplot(x=country_df[\"Country\"].head(15), y=country_df[\"Count\"].head(15), data=country_df, palette=\"colorblind\")\n",
        "\n",
        "# Rotate x-axis labels for better readability\n",
        "plt.xticks(rotation=90)\n",
        "\n",
        "# Add a title to the plot\n",
        "plt.title(\"Top 15 Countries with the Highest Number of Terrorist Activities over the years\")\n",
        "\n",
        "# Annotate each bar with its count\n",
        "for index, value in enumerate(country_df[\"Count\"].head(15)):\n",
        "    bar_plot.text(index, value + 1, str(value), ha='center', va='bottom', fontsize=10)\n",
        "\n",
        "# Display the plot\n",
        "plt.show()"
      ],
      "metadata": {
        "id": "SkGVLX6XRfcV"
      },
      "execution_count": null,
      "outputs": []
    },
    {
      "cell_type": "code",
      "source": [
        "# The code groups the data by 'Year' and 'Country' columns and calculates the count of terrorist incidents for each year-country combination.\n",
        "grouped_df = terror_df.groupby(['Year', 'Country']).size().reset_index(name='Count')\n",
        "\n",
        "# Convert the grouped data to a DataFrame\n",
        "grouped_df = pd.DataFrame(grouped_df)\n",
        "\n",
        "# Group the data again by 'Year' and 'Country', summing up the counts of incidents for each year-country combination.\n",
        "grouped_data = grouped_df.groupby(['Year', 'Country'])['Count'].sum().reset_index()\n",
        "\n",
        "# Find the top 10 countries with the highest total counts of terrorist incidents over the years.\n",
        "top_10_countries = grouped_data.groupby('Country')['Count'].sum().nlargest(10).index\n",
        "\n",
        "# Filter the grouped data to include only the top 10 countries.\n",
        "top_10_data = grouped_data[grouped_data['Country'].isin(top_10_countries)]"
      ],
      "metadata": {
        "id": "zcIwo6NBRm16"
      },
      "execution_count": null,
      "outputs": []
    },
    {
      "cell_type": "code",
      "source": [
        "# Create a cross-tabulation table for attack types in India over the years\n",
        "change_in_attack_type_india = pd.crosstab(terror_copy.Year, terror_copy.Region)\n",
        "\n",
        "# Plot the data using a vibrant color palette and line style\n",
        "change_in_attack_type_india.plot(color=sns.color_palette('bright', 12), style='-', linewidth=2.5)\n",
        "\n",
        "# Set the size of the plot\n",
        "fig = plt.gcf()\n",
        "fig.set_size_inches(12, 6)\n",
        "\n",
        "# Set labels and title for the plot, with increased font size for better readability\n",
        "plt.ylabel('Number of Attacks', fontsize=14)  # Set y-axis label with larger font size\n",
        "plt.xlabel('Year', fontsize=14)  # Set x-axis label with larger font size\n",
        "plt.title(\"Variation in the Type of Terrorist Attacks Over the Years\", fontsize=16)  # Set plot title with larger font size\n",
        "\n",
        "# Move the legend outside the plot area for clarity and set font size\n",
        "plt.legend(loc='center left', bbox_to_anchor=(1, 0.5), title='Attack Type', fontsize=12)  # Set legend font size\n",
        "\n",
        "# Remove top and right spines for a cleaner look\n",
        "sns.despine()\n",
        "\n",
        "# Display the plot with grid lines for better readability\n",
        "plt.grid(True, axis='y', linestyle='--', alpha=0.7)\n",
        "\n",
        "# Tight layout for optimal spacing between elements\n",
        "plt.tight_layout()\n",
        "\n",
        "# Save the plot as a high-resolution image for professional use (optional)\n",
        "plt.savefig('terrorist_attack_variation.png', dpi=300, bbox_inches='tight')\n",
        "\n",
        "# Display the plot\n",
        "plt.show()"
      ],
      "metadata": {
        "id": "V2dzkp79RmqK"
      },
      "execution_count": null,
      "outputs": []
    },
    {
      "cell_type": "code",
      "source": [
        "# Set style and figure size\n",
        "sns.set(style=\"whitegrid\")\n",
        "plt.figure(figsize=(12, 7))\n",
        "\n",
        "# Plotting the data using seaborn lineplot\n",
        "sns.lineplot(data=top_10_data, x='Year', y='Count', hue='Country', marker='o', markersize=8, linewidth=2.5, palette=\"tab10\")\n",
        "\n",
        "# Adding labels and title to the plot\n",
        "plt.title('Terrorist Incidents Trend in Top 10 Affected Countries')\n",
        "plt.xlabel('Year')\n",
        "plt.ylabel('Number of Incidents')\n",
        "\n",
        "# Customize legend location and appearance\n",
        "plt.legend(title='Country', loc='upper left', bbox_to_anchor=(1, 1))\n",
        "\n",
        "# Add grid for better readability\n",
        "plt.grid(True, linestyle='--', alpha=0.7)\n",
        "\n",
        "# Display the plot with tight layout for better spacing\n",
        "plt.tight_layout()\n",
        "plt.show()"
      ],
      "metadata": {
        "id": "UZelD8wlRmmr"
      },
      "execution_count": null,
      "outputs": []
    },
    {
      "cell_type": "markdown",
      "source": [
        "##### **1. Why did you pick the specific chart?**"
      ],
      "metadata": {
        "id": "fge-S5ZAYoAp"
      }
    },
    {
      "cell_type": "code",
      "source": [
        "# Convert the region_series into a DataFrame, resetting the index to have Region and Count columns.\n",
        "# region_df = pd.DataFrame(region_series.reset_index())\n",
        "\n",
        "# Set the figure size\n",
        "plt.subplots(figsize=(15, 6))\n",
        "\n",
        "# Create a bar plot using Seaborn\n",
        "bar_plot = sns.barplot(x=region_df[\"Region\"].head(15), y=region_df[\"Count\"].head(15), data=region_df, palette=\"colorblind\")\n",
        "\n",
        "# Rotate x-axis labels for better readability\n",
        "plt.xticks(rotation=90)\n",
        "\n",
        "# Set the plot title\n",
        "plt.title(\"Top 15 Regions with the Highest Number of Terrorist Activities over the years\")\n",
        "\n",
        "# Annotate each bar with its count\n",
        "for index, value in enumerate(region_df[\"Count\"].head(15)):\n",
        "    bar_plot.text(index, value + 1, str(value), ha='center', va='bottom', fontsize=10)\n",
        "\n",
        "# Display the plot\n",
        "plt.show()"
      ],
      "metadata": {
        "id": "t6GMdE67YoAp"
      },
      "execution_count": null,
      "outputs": []
    },
    {
      "cell_type": "code",
      "source": [
        "# Set the figure size\n",
        "plt.subplots(figsize=(15, 6))\n",
        "\n",
        "# Create a bar plot using Seaborn\n",
        "bar_plot = sns.barplot(x=country_df[\"Country\"].head(15), y=country_df[\"Count\"].head(15), data=country_df, palette=\"colorblind\")\n",
        "\n",
        "# Rotate x-axis labels for better readability\n",
        "plt.xticks(rotation=90)\n",
        "\n",
        "# Add a title to the plot\n",
        "plt.title(\"Top 15 Countries with the Highest Number of Terrorist Activities over the years\")\n",
        "\n",
        "# Annotate each bar with its count\n",
        "for index, value in enumerate(country_df[\"Count\"].head(15)):\n",
        "    bar_plot.text(index, value + 1, str(value), ha='center', va='bottom', fontsize=10)\n",
        "\n",
        "# Display the plot\n",
        "plt.show()"
      ],
      "metadata": {
        "id": "ijVtE_0xFHsR"
      },
      "execution_count": null,
      "outputs": []
    },
    {
      "cell_type": "markdown",
      "source": [
        "**Answer Here.**\n",
        "It shows top 15 country's and region's having highest number Of terrorist activities over the years."
      ],
      "metadata": {
        "id": "5dBItgRVYoAp"
      }
    },
    {
      "cell_type": "markdown",
      "source": [
        "##### **2. What is/are the insight(s) found from the chart?**"
      ],
      "metadata": {
        "id": "85gYPyotYoAp"
      }
    },
    {
      "cell_type": "code",
      "source": [
        "# Create a cross-tabulation table for attack types in region over the years\n",
        "change_in_attack_type_region = pd.crosstab(terror_copy.Year, terror_copy.Region)\n",
        "\n",
        "# Plot the data using a vibrant color palette and line style\n",
        "change_in_attack_type_region.plot(color=sns.color_palette('bright', 12), style='-', linewidth=2.5)\n",
        "\n",
        "# Set the size of the plot\n",
        "fig = plt.gcf()\n",
        "fig.set_size_inches(12, 6)\n",
        "\n",
        "# Set labels and title for the plot, with increased font size for better readability\n",
        "plt.ylabel('Number of Attacks', fontsize=14)  # Set y-axis label with larger font size\n",
        "plt.xlabel('Year', fontsize=14)  # Set x-axis label with larger font size\n",
        "plt.title(\"Variation in the Type of Terrorist Attacks in India Over the Years\", fontsize=16)  # Set plot title with larger font size\n",
        "\n",
        "# Move the legend outside the plot area for clarity and set font size\n",
        "plt.legend(loc='center left', bbox_to_anchor=(1, 0.5), title='Attack Type', fontsize=12)  # Set legend font size\n",
        "\n",
        "# Remove top and right spines for a cleaner look\n",
        "sns.despine()\n",
        "\n",
        "# Display the plot with grid lines for better readability\n",
        "plt.grid(True, axis='y', linestyle='--', alpha=0.7)\n",
        "\n",
        "# Tight layout for optimal spacing between elements\n",
        "plt.tight_layout()\n",
        "\n",
        "# Save the plot as a high-resolution image for professional use (optional)\n",
        "plt.savefig('terrorist_attack_variation.png', dpi=300, bbox_inches='tight')\n",
        "\n",
        "# Display the plot\n",
        "plt.show()"
      ],
      "metadata": {
        "id": "E4tQEUc4Wzw6"
      },
      "execution_count": null,
      "outputs": []
    },
    {
      "cell_type": "code",
      "source": [
        "# The code groups the data by 'Year' and 'Country' columns and calculates the count of terrorist incidents for each year-country combination.\n",
        "grouped_df = terror_df.groupby(['Year', 'Country']).size().reset_index(name='Count')\n",
        "\n",
        "# Convert the grouped data to a DataFrame\n",
        "grouped_df = pd.DataFrame(grouped_df)\n",
        "\n",
        "# Group the data again by 'Year' and 'Country', summing up the counts of incidents for each year-country combination.\n",
        "grouped_data = grouped_df.groupby(['Year', 'Country'])['Count'].sum().reset_index()\n",
        "\n",
        "# Find the top 10 countries with the highest total counts of terrorist incidents over the years.\n",
        "top_10_countries = grouped_data.groupby('Country')['Count'].sum().nlargest(10).index\n",
        "\n",
        "# Filter the grouped data to include only the top 10 countries.\n",
        "top_10_data = grouped_data[grouped_data['Country'].isin(top_10_countries)]\n",
        "\n",
        "# Create a line plot using the seaborn library, showing the trend of terrorist incidents over the years for the top 10 countries.\n",
        "plt.figure(figsize=(15, 5))\n",
        "sns.lineplot(data=top_10_data, x='Year', y='Count', hue='Country')\n",
        "\n",
        "# Set plot titles and labels.\n",
        "plt.title('Top 10 Countries with Highest Counts Over the Years')\n",
        "plt.xlabel('Year')\n",
        "plt.ylabel('Count')\n",
        "\n",
        "# Add legend to the plot for better interpretation.\n",
        "plt.legend(title='Country', loc='center left', bbox_to_anchor=(1.0, 0.5))\n",
        "\n",
        "# Display the plot.\n",
        "plt.show()\n"
      ],
      "metadata": {
        "id": "bXK5slotWzjs"
      },
      "execution_count": null,
      "outputs": []
    },
    {
      "cell_type": "code",
      "source": [
        "\n",
        "# Set style and figure size\n",
        "sns.set(style=\"whitegrid\")\n",
        "plt.figure(figsize=(12, 7))\n",
        "\n",
        "# Plotting the data using seaborn lineplot\n",
        "sns.lineplot(data=top_10_data, x='Year', y='Count', hue='Country', marker='o', markersize=8, linewidth=2.5, palette=\"tab10\")\n",
        "\n",
        "# Adding labels and title to the plot\n",
        "plt.title('Terrorist Incidents Trend in Top 10 Affected Countries')\n",
        "plt.xlabel('Year')\n",
        "plt.ylabel('Number of Incidents')\n",
        "\n",
        "# Customize legend location and appearance\n",
        "plt.legend(title='Country', loc='upper left', bbox_to_anchor=(1, 1))\n",
        "\n",
        "# Add grid for better readability\n",
        "plt.grid(True, linestyle='--', alpha=0.7)\n",
        "\n",
        "# Display the plot with tight layout for better spacing\n",
        "plt.tight_layout()\n",
        "plt.show()"
      ],
      "metadata": {
        "id": "2bRxKneFSZ9R"
      },
      "execution_count": null,
      "outputs": []
    },
    {
      "cell_type": "markdown",
      "source": [
        "**Answer Here.**\n",
        "\n",
        "As we can observe from both(Distribution of number of attacks over the years within different Regions and countries) of these line plot that there is a steeper rise in number of attacks in some of the regions(Middle East and South Africa,South Asia and Sub-Saharan Africa) and countries(Iraq,Pakistan,Afghanistan and India) from the year 2004.\n",
        "\n",
        "We can clearly see that the countries in which these terrorist activities has taken a certain rise are either sharing the geogriphcal boundaries or geographically nearer to each other.\n",
        "Similarly,same observation we can see for the region distribution.\n",
        "\n",
        "The regions and countries which are geographically isolated like Australia,Central America and Caribbean are least prone to terrorist attack.\n",
        "\n",
        "Iraq has the most attacks followed by Afganistan and Pakistan an then India."
      ],
      "metadata": {
        "id": "4jstXR6OYoAp"
      }
    },
    {
      "cell_type": "markdown",
      "source": [
        "##### **3. Will the gained insights help creating a positive business impact?Are there any insights that lead to negative growth? Justify with specific reason.**"
      ],
      "metadata": {
        "id": "RoGjAbkUYoAp"
      }
    },
    {
      "cell_type": "markdown",
      "source": [
        "**Answer Here.**\n",
        "\n",
        "It shows us which of the countrie's/region's are suffering most from the terrorist attacks at where the prevention is needed the most.so, that we can see the significant fall in total number of terrorist attacks.\n",
        "\n",
        "Iraq, Afghanistan, Pakistan are India are the most affected countries from terrorism which are geoghraphically sharing the boundaries with each other.\n",
        "Negative business impact is that we must consider the neighboring counteries(like India,Iran,Tajikistan,Turkey,Turkmenistan,Azerbaijan,Syria,Saudi Arabia,kuwait) specially their borders areas with Iraq, Afghanistan and Pakistan as the most sensistive counteries. As terrorist groups may consider these counteries for there next target and do terrorist activities like recruting new terrorist, getting economical aid, attacks etc."
      ],
      "metadata": {
        "id": "zfJ8IqMcYoAp"
      }
    },
    {
      "cell_type": "markdown",
      "source": [
        "## **Chart - 3**"
      ],
      "metadata": {
        "id": "4Of9eVA-YrdM"
      }
    },
    {
      "cell_type": "markdown",
      "source": [
        "# Countries with the highest countplots for the top four attack types."
      ],
      "metadata": {
        "id": "ImhaUJCiO6Wp"
      }
    },
    {
      "cell_type": "code",
      "source": [
        "# Visualisation code\n",
        "\n",
        "# Create a bar plot to visualize the distribution of terrorist activities over the years.\n",
        "# Set the figsize parameter to (15, 6) for better visibility.\n",
        "plt.subplots(figsize=(15, 6))\n",
        "\n",
        "# Calculate the count of activities for each attack type and order them in descending order\n",
        "activity_counts = terror_df['Attack_Type'].value_counts().sort_values(ascending=False)\n",
        "\n",
        "# The seaborn countplot function is used with the 'terror_df' DataFrame,\n",
        "# plotting the count of activities for each attack type with a specified palette.\n",
        "# The 'edgecolor' parameter sets the color of the bar edges using a darker shade from the 'dark' palette.\n",
        "ax = sns.countplot(data=terror_df, x='Attack_Type', order=activity_counts.index, palette='hot', edgecolor=sns.color_palette('dark', 7))\n",
        "\n",
        "# Rotate the x-axis labels by 90 degrees for better readability.\n",
        "plt.xticks(rotation=90)\n",
        "\n",
        "# Set the title of the plot to 'Number Of Terrorist Activities Each Year'.\n",
        "plt.title('Number Of Terrorist Activities Each Year')\n",
        "\n",
        "# Annotate each bar with its count\n",
        "for p in ax.patches:\n",
        "    ax.annotate(format(p.get_height(), '.0f'),\n",
        "                (p.get_x() + p.get_width() / 2., p.get_height()),\n",
        "                ha='center', va='center',\n",
        "                xytext=(0, 9),\n",
        "                textcoords='offset points')\n",
        "\n",
        "# Display the plot.\n",
        "plt.show()"
      ],
      "metadata": {
        "id": "0PtW8r6MjN0c"
      },
      "execution_count": null,
      "outputs": []
    },
    {
      "cell_type": "code",
      "source": [
        "# Use the value_counts() function to count values in the column\n",
        "value_counts = terror_df['Attack_Type'].value_counts()\n",
        "\n",
        "# Create a list of (value, count) tuples and sort it in descending order of count\n",
        "sorted_value_counts = value_counts.reset_index().values.tolist()\n",
        "\n",
        "# Create a 2x2 grid of subplots\n",
        "fig, axes = plt.subplots(2, 2, figsize=(20, 15))\n",
        "\n",
        "# Flatten the axes array for easy access\n",
        "axes = axes.flatten()\n",
        "\n",
        "# Loop through the top 4 attack types\n",
        "for i in range(4):\n",
        "    # Filter data for the current attack type\n",
        "    attack_type = terror_df[terror_df['Attack_Type'] == sorted_value_counts[i][0]]\n",
        "\n",
        "    # Get the top 10 countries for the current attack type\n",
        "    top_10_countries = attack_type['Country'].value_counts().head(10).index\n",
        "\n",
        "    # Filter the data for the top 10 countries and the current attack type\n",
        "    filtered_df = attack_type[attack_type['Country'].isin(top_10_countries)]\n",
        "\n",
        "    # Plot the countplot in the current subplot\n",
        "    sns.countplot(x='Country', data=filtered_df, order=filtered_df['Country'].value_counts().index, palette='hot', ax=axes[i])\n",
        "\n",
        "    # Rotate x-axis labels for better readability\n",
        "    axes[i].set_xticklabels(axes[i].get_xticklabels(), rotation=90)\n",
        "\n",
        "    # Set x-axis label and subplot title\n",
        "    axes[i].set_xlabel(f'Method {sorted_value_counts[i][0]}')\n",
        "    axes[i].set_title('CountPlot of Attacks in the Top 10 Countries')\n",
        "\n",
        "\n",
        "    # Add count labels on top of each bar\n",
        "    # Iterate through the patches in the ith subplot's axes\n",
        "    for p in axes[i].patches:\n",
        "        # Annotate the height of the bar at the center of the bar\n",
        "        # Calculate the x-coordinate at the center of the bar\n",
        "        x_coordinate = p.get_x() + p.get_width() / 2.\n",
        "        # Calculate the y-coordinate at the top of the bar\n",
        "        y_coordinate = p.get_height()\n",
        "        # Set horizontal and vertical alignment to center the annotation\n",
        "        horizontal_alignment = 'center'\n",
        "        vertical_alignment = 'center'\n",
        "        # Set the distance from the annotation to the bar as 10 points above\n",
        "        xy_text_offset = (0, 10)\n",
        "        # Annotate the bar with its height at the specified coordinates\n",
        "        axes[i].annotate(str(p.get_height()), (x_coordinate, y_coordinate),\n",
        "                        ha=horizontal_alignment, va=vertical_alignment,\n",
        "                        xytext=xy_text_offset, textcoords='offset points')\n",
        "\n",
        "\n",
        "# Add some spacing between subplots\n",
        "plt.tight_layout()\n",
        "\n",
        "# Show the plots\n",
        "plt.show()"
      ],
      "metadata": {
        "id": "3pCEagFmBdSc"
      },
      "execution_count": null,
      "outputs": []
    },
    {
      "cell_type": "markdown",
      "source": [
        "##### **1. Why did you pick the specific chart?**"
      ],
      "metadata": {
        "id": "iky9q4vBYrdO"
      }
    },
    {
      "cell_type": "code",
      "source": [
        "# Create a bar plot to visualize the distribution of terrorist activities over the years.\n",
        "# Set the figsize parameter to (15, 6) for better visibility.\n",
        "plt.subplots(figsize=(15, 6))\n",
        "\n",
        "# Calculate the count of activities for each attack type and order them in descending order\n",
        "activity_counts = terror_df['Attack_Type'].value_counts().sort_values(ascending=False)\n",
        "\n",
        "# The seaborn countplot function is used with the 'india_atk_type' DataFrame,\n",
        "# plotting the count of activities for each attack type with a specified palette.\n",
        "# The 'edgecolor' parameter sets the color of the bar edges using a darker shade from the 'dark' palette.\n",
        "ax = sns.countplot(data=terror_df, x='Attack_Type', order=activity_counts.index, palette='hot', edgecolor=sns.color_palette('dark', 7))\n",
        "\n",
        "# Rotate the x-axis labels by 90 degrees for better readability.\n",
        "plt.xticks(rotation=90)\n",
        "\n",
        "# Set the title of the plot to 'Number Of Terrorist Activities Each Year'.\n",
        "plt.title('Number Of Terrorist Activities Each Year')\n",
        "\n",
        "# Annotate each bar with its count\n",
        "for p in ax.patches:\n",
        "    ax.annotate(format(p.get_height(), '.0f'),\n",
        "                (p.get_x() + p.get_width() / 2., p.get_height()),\n",
        "                ha='center', va='center',\n",
        "                xytext=(0, 9),\n",
        "                textcoords='offset points')\n",
        "\n",
        "# Display the plot.\n",
        "plt.show()"
      ],
      "metadata": {
        "id": "c5oIJ8MnBWcE"
      },
      "execution_count": null,
      "outputs": []
    },
    {
      "cell_type": "code",
      "source": [
        "# Create a 2x2 grid of subplots\n",
        "fig, axes = plt.subplots(2, 2, figsize=(20, 15))\n",
        "\n",
        "# Flatten the axes array for easy access\n",
        "axes = axes.flatten()\n",
        "\n",
        "# Loop through the top 4 attack types\n",
        "for i in range(4):\n",
        "    # Filter data for the current attack type\n",
        "    attack_type = terror_df[terror_df['Attack_Type'] == sorted_value_counts[i][0]]\n",
        "\n",
        "    # Get the top 10 countries for the current attack type\n",
        "    top_10_countries = attack_type['Country'].value_counts().head(10).index\n",
        "\n",
        "    # Filter the data for the top 10 countries and the current attack type\n",
        "    filtered_df = attack_type[attack_type['Country'].isin(top_10_countries)]\n",
        "\n",
        "    # Plot the countplot in the current subplot\n",
        "    sns.countplot(x='Country', data=filtered_df, order=filtered_df['Country'].value_counts().index, palette='hot', ax=axes[i])\n",
        "\n",
        "    # Rotate x-axis labels for better readability\n",
        "    axes[i].set_xticklabels(axes[i].get_xticklabels(), rotation=90)\n",
        "\n",
        "    # Set x-axis label and subplot title\n",
        "    axes[i].set_xlabel(f'Method {sorted_value_counts[i][0]}')\n",
        "    axes[i].set_title('CountPlot of Attacks in the Top 10 Countries')\n",
        "\n",
        "\n",
        "    # Add count labels on top of each bar\n",
        "    # Iterate through the patches in the ith subplot's axes\n",
        "    for p in axes[i].patches:\n",
        "        # Annotate the height of the bar at the center of the bar\n",
        "        # Calculate the x-coordinate at the center of the bar\n",
        "        x_coordinate = p.get_x() + p.get_width() / 2.\n",
        "        # Calculate the y-coordinate at the top of the bar\n",
        "        y_coordinate = p.get_height()\n",
        "        # Set horizontal and vertical alignment to center the annotation\n",
        "        horizontal_alignment = 'center'\n",
        "        vertical_alignment = 'center'\n",
        "        # Set the distance from the annotation to the bar as 10 points above\n",
        "        xy_text_offset = (0, 10)\n",
        "        # Annotate the bar with its height at the specified coordinates\n",
        "        axes[i].annotate(str(p.get_height()), (x_coordinate, y_coordinate),\n",
        "                      ha=horizontal_alignment, va=vertical_alignment,\n",
        "                      xytext=xy_text_offset, textcoords='offset points')\n",
        "\n",
        "\n",
        "# Add some spacing between subplots\n",
        "plt.tight_layout()\n",
        "\n",
        "# Show the plots\n",
        "plt.show()"
      ],
      "metadata": {
        "id": "Ue4IfHn31Req"
      },
      "execution_count": null,
      "outputs": []
    },
    {
      "cell_type": "markdown",
      "source": [
        "**Answer Here.**\n",
        "\n",
        "It clearly visualizes that there are four types of terrorist attacks in the world, which are the highest in numbers.This countplot shows the top 10 countries that suffered from that particular type of attack, most and in what proportion are suffering from terrorist attacks."
      ],
      "metadata": {
        "id": "aJRCwT6DYrdO"
      }
    },
    {
      "cell_type": "markdown",
      "source": [
        "##### **2. What is/are the insight(s) found from the chart?**"
      ],
      "metadata": {
        "id": "F6T5p64dYrdO"
      }
    },
    {
      "cell_type": "code",
      "source": [
        "# Create a 2x2 grid of subplots\n",
        "fig, axes = plt.subplots(2, 2, figsize=(20, 15))\n",
        "\n",
        "# Flatten the axes array for easy access\n",
        "axes = axes.flatten()\n",
        "\n",
        "# Loop through the top 4 attack types\n",
        "for i in range(4):\n",
        "    # Filter data for the current attack type\n",
        "    attack_type = terror_df[terror_df['Attack_Type'] == sorted_value_counts[i][0]]\n",
        "\n",
        "    # Get the top 10 countries for the current attack type\n",
        "    top_10_countries = attack_type['Country'].value_counts().head(10).index\n",
        "\n",
        "    # Filter the data for the top 10 countries and the current attack type\n",
        "    filtered_df = attack_type[attack_type['Country'].isin(top_10_countries)]\n",
        "\n",
        "    # Plot the countplot in the current subplot\n",
        "    sns.countplot(x='Country', data=filtered_df, order=filtered_df['Country'].value_counts().index, palette='hot', ax=axes[i])\n",
        "\n",
        "    # Rotate x-axis labels for better readability\n",
        "    axes[i].set_xticklabels(axes[i].get_xticklabels(), rotation=90)\n",
        "\n",
        "    # Set x-axis label and subplot title\n",
        "    axes[i].set_xlabel(f'Method {sorted_value_counts[i][0]}')\n",
        "    axes[i].set_title('CountPlot of Attacks in the Top 10 Countries')\n",
        "\n",
        "\n",
        "    # Add count labels on top of each bar\n",
        "    # Iterate through the patches in the ith subplot's axes\n",
        "    for p in axes[i].patches:\n",
        "        # Annotate the height of the bar at the center of the bar\n",
        "        # Calculate the x-coordinate at the center of the bar\n",
        "        x_coordinate = p.get_x() + p.get_width() / 2.\n",
        "        # Calculate the y-coordinate at the top of the bar\n",
        "        y_coordinate = p.get_height()\n",
        "        # Set horizontal and vertical alignment to center the annotation\n",
        "        horizontal_alignment = 'center'\n",
        "        vertical_alignment = 'center'\n",
        "        # Set the distance from the annotation to the bar as 10 points above\n",
        "        xy_text_offset = (0, 10)\n",
        "        # Annotate the bar with its height at the specified coordinates\n",
        "        axes[i].annotate(str(p.get_height()), (x_coordinate, y_coordinate),\n",
        "                      ha=horizontal_alignment, va=vertical_alignment,\n",
        "                      xytext=xy_text_offset, textcoords='offset points')\n",
        "\n",
        "\n",
        "# Add some spacing between subplots\n",
        "plt.tight_layout()\n",
        "\n",
        "# Show the plots\n",
        "plt.show()"
      ],
      "metadata": {
        "id": "yrqRlMRDgcnp"
      },
      "execution_count": null,
      "outputs": []
    },
    {
      "cell_type": "markdown",
      "source": [
        "**Answer Here.**\n",
        "\n",
        "Iraq has suffered the most from bombing/explosion-type attacks, experiencing 18,286 incidents, which is more than double the number in Pakistan, which follows with 7,613 attacks.\n",
        "\n",
        "Pakistan has suffered the most from the Armed Assault type of attack, with 3859 incidents, followed by India and Iraq, which have experienced 3184 and 3155 attacks, respectively.\n",
        "\n",
        "\"Surprisingly, the United Kingdom suffered the most from assassination-type attacks, with 1651 incidents, followed by Pakistan and Colombia with 1406 and 1343 attacks, respectively. The United Kingdom is not included in the list of the top 10 countries with the highest number of attacks in the Hostage Taking (Kidnapping) and Armed Assault categories.\"\n",
        "\n",
        "India has suffered the most from hostage-taking (kidnapping) attacks, with 1184 incidents, followed by Colombia and Afghanistan, which have experienced 1058 and 1011 attacks, respectively."
      ],
      "metadata": {
        "id": "Xx8WAJvtYrdO"
      }
    },
    {
      "cell_type": "markdown",
      "source": [
        "##### **3. Will the gained insights help creating a positive business impact?Are there any insights that lead to negative growth? Justify with specific reason.**"
      ],
      "metadata": {
        "id": "y-Ehk30pYrdP"
      }
    },
    {
      "cell_type": "markdown",
      "source": [
        "**Answer Here.**\n",
        "\n",
        "We can learn about the most commonly used methods in terrorist attacks in different countries.\n",
        "\n",
        "It displays a bar chart in a countplot format, indicating which countries experienced the highest impact based on the top four preferred types of attacks.These observations can be instrumental in creating and executing strategies to stop and counteract these particular attacks. If certain attack patterns are widespread, it might indicate a lack of effective measures against these dangers, possibly leading to negative impacts.\n",
        "\n",
        "In those particular countries where the particular type of attack is high in numbers we should take preventive action in those countries against those type of attacks, It will definitely decrease the overall number of terrorist attacks in the world."
      ],
      "metadata": {
        "id": "jLNxxz7MYrdP"
      }
    },
    {
      "cell_type": "markdown",
      "source": [
        "### **Chart- 4**\n",
        "\n",
        "# Checked the variation in people got killed and wounded from 1970 to 2017."
      ],
      "metadata": {
        "id": "abT--zYp8fAI"
      }
    },
    {
      "cell_type": "code",
      "source": [
        "# visualization code\n",
        "\n",
        "plt.figure(figsize=(12, 5))\n",
        "sns.set(style=\"whitegrid\")  # Remove the grid lines\n",
        "sns.set_palette(\"husl\")  # Use a color palette for better distinction\n",
        "\n",
        "# Plotting a line graph for the total number of killed and wounded over the years\n",
        "sns.lineplot(data=terror_df, x='Year', y='Killed', estimator='sum', label='Killed')\n",
        "sns.lineplot(data=terror_df, x='Year', y='Wounded', estimator='sum', label='Wounded')\n",
        "\n",
        "# Adding labels and title to the plot\n",
        "plt.xlabel('Year')  # X-axis label indicating years\n",
        "plt.ylabel('Count')  # Y-axis label indicating the count of killed and wounded\n",
        "plt.title('Total Number of Killed and Wounded in Terrorist Attacks (1970-2017)')  # Title of the plot\n",
        "\n",
        "# Displaying the legend to differentiate between killed and wounded data\n",
        "plt.legend()\n",
        "\n",
        "# Displaying the plot\n",
        "plt.show()"
      ],
      "metadata": {
        "id": "4pFp1vMF8gm_"
      },
      "execution_count": null,
      "outputs": []
    },
    {
      "cell_type": "markdown",
      "source": [
        "**1. Why did you pick the specific chart?**"
      ],
      "metadata": {
        "id": "paxmrHgW9Wf4"
      }
    },
    {
      "cell_type": "code",
      "source": [
        "# Set the size of the plot\n",
        "plt.figure(figsize=(12, 5))\n",
        "\n",
        "# Set the style and color palette for the plot\n",
        "sns.set(style=\"whitegrid\")  # Remove the grid lines\n",
        "sns.set_palette(\"husl\")  # Use a color palette for better distinction\n",
        "\n",
        "# Plotting the data\n",
        "sns.lineplot(data=terror_df, x='Year', y='Killed', estimator='sum', label='Killed')\n",
        "sns.lineplot(data=terror_df, x='Year', y='Wounded', estimator='sum', label='Wounded')\n",
        "\n",
        "# Adding labels and title to the plot\n",
        "plt.title('Number of People Affected by Terror Attacks (Killed and Wounded)')\n",
        "plt.xlabel('Year')\n",
        "plt.ylabel('Number of People')\n",
        "plt.xticks(rotation=90)  # Rotate x-axis labels for better visibility\n",
        "\n",
        "# Adding legend for clarity\n",
        "plt.legend()\n",
        "\n",
        "# Display the plot\n",
        "plt.show()"
      ],
      "metadata": {
        "id": "p6-rLMUZRNy4"
      },
      "execution_count": null,
      "outputs": []
    },
    {
      "cell_type": "markdown",
      "source": [
        "**Answer Here.**\n",
        "\n",
        "The above graph shows variation in people got killed and wounded from 1970 to 2017.\n",
        "It effectively conveys the trend of the number of people affected by terror attacks (both killed and wounded) over the years.\n",
        "\n",
        " The data involves a time series (years) and two numeric variables (number of people killed and wounded). A line plot is an appropriate choice for visualizing changes over time.\n",
        "\n",
        " This helps in visualizing the total impact of terror attacks for each year."
      ],
      "metadata": {
        "id": "KDxKNTqeQYIT"
      }
    },
    {
      "cell_type": "markdown",
      "source": [
        "**2. What is/are the insight(s) found from the chart?**"
      ],
      "metadata": {
        "id": "08cP-q42QcP7"
      }
    },
    {
      "cell_type": "code",
      "source": [
        "# Set the size of the plot\n",
        "plt.figure(figsize=(12, 5))\n",
        "\n",
        "# Set the style and color palette for the plot\n",
        "sns.set(style=\"whitegrid\")  # Remove the grid lines\n",
        "sns.set_palette(\"husl\")  # Use a color palette for better distinction\n",
        "\n",
        "# Plotting the data\n",
        "sns.lineplot(data=terror_df, x='Year', y='Killed', estimator='sum', label='Killed')\n",
        "sns.lineplot(data=terror_df, x='Year', y='Wounded', estimator='sum', label='Wounded')\n",
        "\n",
        "# Adding labels and title to the plot\n",
        "plt.title('Number of People Affected by Terror Attacks (Killed and Wounded)')\n",
        "plt.xlabel('Year')\n",
        "plt.ylabel('Number of People')\n",
        "plt.xticks(rotation=90)  # Rotate x-axis labels for better visibility\n",
        "\n",
        "# Adding legend for clarity\n",
        "plt.legend()\n",
        "\n",
        "# Display the plot\n",
        "plt.show()"
      ],
      "metadata": {
        "id": "Kc2nTJwJRRk_"
      },
      "execution_count": null,
      "outputs": []
    },
    {
      "cell_type": "markdown",
      "source": [
        "**Answer Here.**\n",
        "\n",
        "The understanding pertains to the gravity of terrorist activities over time, measured in terms of the number of human lives lost and wounded."
      ],
      "metadata": {
        "id": "HkeVDTXPQczm"
      }
    },
    {
      "cell_type": "markdown",
      "source": [
        "**3. Will the gained insights help creating a positive business impact?**\n",
        "**Are there any insights that lead to negative growth? Justify with specific reason.**"
      ],
      "metadata": {
        "id": "bagzR1VyQeQF"
      }
    },
    {
      "cell_type": "markdown",
      "source": [
        "**Answer Here.**\n",
        "\n",
        "This has the potential to impact policy formulation, disaster preparedness, insurance policies, and healthcare services. A rising pattern might result in adverse economic effects by hindering population stability, investments, and overall progress."
      ],
      "metadata": {
        "id": "Qvh-XqFAQdik"
      }
    },
    {
      "cell_type": "markdown",
      "source": [
        "#### **Chart - 5**\n",
        "\n",
        "# Checked how In India, Attack types varry over the years and number of people got killed vary due to these types of Attack??"
      ],
      "metadata": {
        "id": "bamQiAODYuh1"
      }
    },
    {
      "cell_type": "code",
      "source": [
        "# Extracting rows from the 'terror_df' DataFrame where the country is \"India\".\n",
        "india_atk_type = terror_df[terror_df[\"Country\"] == \"India\"]"
      ],
      "metadata": {
        "id": "SUDIS6LP5Xqw"
      },
      "execution_count": null,
      "outputs": []
    },
    {
      "cell_type": "code",
      "source": [
        "# visualization code\n",
        "# This code uses the pandas library to create a cross-tabulation between the 'Year' and 'Attack_Type' columns in the 'india_atk_type' dataset.\n",
        "# The resulting cross-tabulation is then used to create a plot using the 'plot' function, with different colors assigned to each attack type using the 'sns.color_palette' function.\n",
        "change_in_attack_type_india=pd.crosstab(india_atk_type.Year,india_atk_type.Attack_Type)\n",
        "change_in_attack_type_india.plot(color=sns.color_palette('bright',12))\n",
        "\n",
        "# The figure size is adjusted to 15x5 inches using 'plt.gcf()' and 'fig.set_size_inches'.\n",
        "# The y-axis label is set to 'Number of Attacks' and the title of the plot is set to \"Variation in type of terrorist attack in India over the years\".\n",
        "fig=plt.gcf()\n",
        "fig.set_size_inches(15,5)\n",
        "# The y-axis label is set to 'Number of Attacks' and the title of the plot is set to \"Variation in type of terrorist attack in India over the years\".\n",
        "plt.ylabel('Number of Attacks')\n",
        "plt.title(\"Variation in type of terrorist attack in india over the years\")\n",
        "\n",
        "\n",
        "# Create a DataFrame to aggregate and analyze data on the number of casualties in different attack types over the years.\n",
        "killed_in_Attack_OverYears = pd.DataFrame()\n",
        "\n",
        "# Group the data by year and attack type, and calculate the total number of people killed in each group.\n",
        "killed_in_Attack_OverYears['Killed_in_Attack_Type'] = india_atk_type.groupby(['Year', 'Attack_Type'])['Killed'].sum()\n",
        "\n",
        "# Reset the index of the DataFrame to make the grouped data accessible as columns.\n",
        "killed_in_Attack_OverYears = killed_in_Attack_OverYears.reset_index()\n",
        "\n",
        "\n",
        "# Group and aggregate the data\n",
        "data_grouped = india_atk_type.groupby(['Year', 'Attack_Type'])['Killed'].sum().reset_index()\n",
        "\n",
        "# Create pivot table\n",
        "pivot_table = data_grouped.pivot(index='Year', columns='Attack_Type', values='Killed')\n",
        "\n",
        "# Create the plot\n",
        "pivot_table.plot(kind='line', marker='o', figsize=(15, 5),color=sns.color_palette('bright',12))\n",
        "\n",
        "# Set labels and title\n",
        "plt.xlabel('Year')\n",
        "plt.ylabel('Killed')\n",
        "plt.title('Attack Types and Deaths Over Years')\n",
        "\n",
        "# Display legend\n",
        "plt.legend(title='Attack Type')\n",
        "\n",
        "# Display the plot\n",
        "plt.grid(True)\n",
        "plt.show()"
      ],
      "metadata": {
        "id": "TIJwrbroYuh3"
      },
      "execution_count": null,
      "outputs": []
    },
    {
      "cell_type": "markdown",
      "source": [
        "##### **1. Why did you pick the specific chart?**"
      ],
      "metadata": {
        "id": "QHF8YVU7Yuh3"
      }
    },
    {
      "cell_type": "code",
      "source": [
        "# This code uses the pandas library to create a cross-tabulation between the 'Year' and 'Attack_Type' columns in the 'india_atk_type' dataset.\n",
        "# The resulting cross-tabulation is then used to create a plot using the 'plot' function, with different colors assigned to each attack type using the 'sns.color_palette' function.\n",
        "change_in_attack_type_india=pd.crosstab(india_atk_type.Year,india_atk_type.Attack_Type)\n",
        "change_in_attack_type_india.plot(color=sns.color_palette('bright',12))\n",
        "\n",
        "# The figure size is adjusted to 15x5 inches using 'plt.gcf()' and 'fig.set_size_inches'.\n",
        "# The y-axis label is set to 'Number of Attacks' and the title of the plot is set to \"Variation in type of terrorist attack in India over the years\".\n",
        "fig=plt.gcf()\n",
        "fig.set_size_inches(15,5)\n",
        "# The y-axis label is set to 'Number of Attacks' and the title of the plot is set to \"Variation in type of terrorist attack in India over the years\".\n",
        "plt.ylabel('Number of Attacks')\n",
        "plt.title(\"Variation in type of terrorist attack in india over the years\")\n",
        "\n",
        "# Create the plot\n",
        "pivot_table.plot(kind='line', marker='o', figsize=(15, 5),color=sns.color_palette('bright',12))\n",
        "\n",
        "# Set labels and title\n",
        "plt.xlabel('Year')\n",
        "plt.ylabel('Killed')\n",
        "plt.title('Attack Types and Deaths Over Years')\n",
        "\n",
        "# Display legend\n",
        "plt.legend(title='Attack Type')\n",
        "\n",
        "# Display the plot\n",
        "plt.grid(True)\n",
        "plt.show()"
      ],
      "metadata": {
        "id": "hodGRNmHyVIU"
      },
      "execution_count": null,
      "outputs": []
    },
    {
      "cell_type": "markdown",
      "source": [
        "**Answer Here.**\n",
        "\n",
        "In particular India from 1970 to 2017, The preceding pair of line graphs illustrates the fluctuations in the occurrences of various types of attacks and the corresponding changes in the number of fatalities resulting from these attack types across different years."
      ],
      "metadata": {
        "id": "dcxuIMRPYuh3"
      }
    },
    {
      "cell_type": "markdown",
      "source": [
        "##### **2. What is/are the insight(s) found from the chart?**"
      ],
      "metadata": {
        "id": "GwzvFGzlYuh3"
      }
    },
    {
      "cell_type": "code",
      "source": [
        "# This code uses the pandas library to create a cross-tabulation between the 'Year' and 'Attack_Type' columns in the 'india_atk_type' dataset.\n",
        "# The resulting cross-tabulation is then used to create a plot using the 'plot' function, with different colors assigned to each attack type using the 'sns.color_palette' function.\n",
        "change_in_attack_type_india=pd.crosstab(india_atk_type.Year,india_atk_type.Attack_Type)\n",
        "change_in_attack_type_india.plot(color=sns.color_palette('bright',12))\n",
        "\n",
        "# The figure size is adjusted to 15x5 inches using 'plt.gcf()' and 'fig.set_size_inches'.\n",
        "# The y-axis label is set to 'Number of Attacks' and the title of the plot is set to \"Variation in type of terrorist attack in India over the years\".\n",
        "fig=plt.gcf()\n",
        "fig.set_size_inches(15,5)\n",
        "# The y-axis label is set to 'Number of Attacks' and the title of the plot is set to \"Variation in type of terrorist attack in India over the years\".\n",
        "plt.ylabel('Number of Attacks')\n",
        "plt.title(\"Variation in type of terrorist attack in india over the years\")\n",
        "\n",
        "# Create the plot\n",
        "pivot_table.plot(kind='line', marker='o', figsize=(15, 5),color=sns.color_palette('bright',12))\n",
        "\n",
        "# Set labels and title\n",
        "plt.xlabel('Year')\n",
        "plt.ylabel('Killed')\n",
        "plt.title('Attack Types and Deaths Over Years')\n",
        "\n",
        "# Display legend\n",
        "plt.legend(title='Attack Type')\n",
        "\n",
        "# Display the plot\n",
        "plt.grid(True)\n",
        "plt.show()"
      ],
      "metadata": {
        "id": "kvjWhrcmy15X"
      },
      "execution_count": null,
      "outputs": []
    },
    {
      "cell_type": "markdown",
      "source": [
        "**Answer Here.**\n",
        "\n",
        "*  In India, Attacks has increased but number of people killed manier times as attack happend.\n",
        "*  In India, Terrorist are preffering to attack from Bombing/Explosions the most, but the people are dieing from Arm Assalut which is second most attack type at India in recent years.\n",
        "*  In India, Deaths due to Assasination and Hostage Taking(Kidnaping) is reached near to the deaths occured by the most preffered attack type(bombing/explosion) in recent years.\n",
        "\n",
        "*   In other words above point can also be described as from around year '2006' deaths due Bombing/Explosion is significantly decreased despite number of attack Bombing/Explosion has increased significantly.\n",
        "\n",
        "*   Deaths due to Attack Type Unarmed Assault is always being zero irrespective of number of attacks.\n"
      ],
      "metadata": {
        "id": "uyqkiB8YYuh3"
      }
    },
    {
      "cell_type": "markdown",
      "source": [
        "##### **3. Will the gained insights help creating a positive business impact?Are there any insights that lead to negative growth? Justify with specific reason.**"
      ],
      "metadata": {
        "id": "qYpmQ266Yuh3"
      }
    },
    {
      "cell_type": "markdown",
      "source": [
        "**Answer Here.**\n",
        "\n",
        "*   Deaths due to Attack Type Unarmed Assault is always being zero irrespective of number of attacks preventing the smuggling of weapons will decrease the number of deaths.\n",
        "*   Type of Attack has a significant role in number of casualties.\n",
        "\n",
        "*   In other words above point can also be described as from around year '2006' deaths due Bombing/Explosion is significantly decreased despite number of attack Bombing/Explosion has increased significantly,preventive measures taken from year 2006 is successful in it's purpose.\n",
        "\n",
        "*   Deaths due to Assassination and Hostage Taking (Kidnapping) have reached levels similar to those caused by the most preferred attack type (bombing/explosion) in recent years. Although Assassination and Hostage Taking (Kidnapping) attacks are less frequent, they result in more deaths compared to other types of attacks.\n",
        "\n",
        "\n",
        "\n"
      ],
      "metadata": {
        "id": "_WtzZ_hCYuh4"
      }
    },
    {
      "cell_type": "markdown",
      "source": [
        "#### **Chart - 6 Correlation Heatmap**\n",
        "\n",
        "# Correlation Heat map of prominant variables of Dataset."
      ],
      "metadata": {
        "id": "0wOQAZs5pc--"
      }
    },
    {
      "cell_type": "code",
      "source": [
        "# Chart - 1 visualization code\n",
        "corr_df = corr_data_df.corr()\n",
        "corr_df"
      ],
      "metadata": {
        "id": "7v_ESjsspbW7"
      },
      "execution_count": null,
      "outputs": []
    },
    {
      "cell_type": "code",
      "source": [
        "# Create a heatmap visualization of the correlation matrix using Seaborn.\n",
        "# The correlation matrix (corr_df) represents the relationships between variables.\n",
        "# The heatmap is plotted in a figure with dimensions 10x5 to enhance readability.\n",
        "# Brighter colors indicate stronger correlations while darker colors represent weaker ones.\n",
        "# This visualization helps in identifying patterns and relationships between variables.\n",
        "plt.figure(figsize=(10,5))\n",
        "sns.heatmap(corr_df)"
      ],
      "metadata": {
        "id": "6qDwjKwrzL6C"
      },
      "execution_count": null,
      "outputs": []
    },
    {
      "cell_type": "markdown",
      "source": [
        "##### **1. Why did you pick the specific chart?**"
      ],
      "metadata": {
        "id": "K5QZ13OEpz2H"
      }
    },
    {
      "cell_type": "code",
      "source": [
        "# Set the size of the figure for the heatmap\n",
        "plt.figure(figsize=(15, 10))\n",
        "\n",
        "# Create a heatmap of the correlation matrix for corr_data_df\n",
        "# - The 'corr()' function computes the pairwise correlation of columns in the DataFrame.\n",
        "# - 'vmin' sets the lower limit of the color scale to -1 (strong negative correlation).\n",
        "# - 'cmap' specifies the color map used for the heatmap ('coolwarm' ranges from cool to warm colors).\n",
        "# - 'annot=True' displays the correlation coefficients in each cell of the heatmap.\n",
        "sns.heatmap(corr_data_df.corr(), vmin=-1, cmap='coolwarm', annot=True)\n",
        "\n",
        "# Display the heatmap\n",
        "plt.show()\n"
      ],
      "metadata": {
        "id": "CM2eD9-3fhfa"
      },
      "execution_count": null,
      "outputs": []
    },
    {
      "cell_type": "markdown",
      "source": [
        "**Answer Here.**\n",
        "\n",
        "Correlation heat maps are used to visualize the relationships between variables by displaying correlation coefficients in a color-coded format."
      ],
      "metadata": {
        "id": "XESiWehPqBRc"
      }
    },
    {
      "cell_type": "markdown",
      "source": [
        "##### **2. What is/are the insight(s) found from the chart?**"
      ],
      "metadata": {
        "id": "lQ7QKXXCp7Bj"
      }
    },
    {
      "cell_type": "code",
      "source": [
        "# Set the size of the figure for the heatmap\n",
        "plt.figure(figsize=(9, 6))\n",
        "\n",
        "# Create a heatmap of the correlation matrix for corr_data_df\n",
        "# - The 'corr()' function computes the pairwise correlation of columns in the DataFrame.\n",
        "# - 'vmin' sets the lower limit of the color scale to -1 (strong negative correlation).\n",
        "# - 'cmap' specifies the color map used for the heatmap ('coolwarm' ranges from cool to warm colors).\n",
        "# - 'annot=True' displays the correlation coefficients in each cell of the heatmap.\n",
        "sns.heatmap(corr_data_df[['Attack_type','Weapon_Type','Year','City']].corr(), vmin=-1, cmap='coolwarm', annot=True)\n",
        "\n",
        "# Display the heatmap\n",
        "plt.show()\n"
      ],
      "metadata": {
        "id": "OB2YRXk4hmDX"
      },
      "execution_count": null,
      "outputs": []
    },
    {
      "cell_type": "markdown",
      "source": [
        "**Answer Here.**\n",
        "\n",
        "\n",
        "In this correlation chart we can see that weapon type has 0.66 correlation with Attack type.In this correlation chart we can see that year has 0.58 correlation with city."
      ],
      "metadata": {
        "id": "C_j1G7yiqdRP"
      }
    },
    {
      "cell_type": "markdown",
      "source": [
        "##### **3. Will the gained insights help creating a positive business impact?Are there any insights that lead to negative growth? Justify with specific reason.**"
      ],
      "metadata": {
        "id": "448CDAPjqfQr"
      }
    },
    {
      "cell_type": "markdown",
      "source": [
        "**Answer Here.**\n",
        "\n",
        "Here, In this correlation chart we can see that weapon type has 0.66 correlation with Attack type which is simple to justify that the reason is a particular type of attack need a specific type of Weapon.and in the further graph we will see that Attack type in India has an relation with people got killed,and unarmed type attack has zero casualty.which means that by restricting weapons smuglling we chould decrease casualties/killings also.\n",
        "\n",
        "No there are no insights that to negative growth.\n",
        "\n",
        "By stoping/restricting the smuglling/manufacturing/Technology transfer/component sales of Weapons, we can reduce the particular type of Attack and it's impact.\n",
        "\n",
        "Here, In this correlation chart we can see that Year type has 0.58 correlation with City type, reason in it is that at a particular time period terrorist attacks occured in particular city (rise or fall) due to various reasons like geopolitical events wining or loseing election of a particular party in an election, getting funds to Terrorist groups due to strat of economical activities in a city, preaching of extreamist idology at a particular time/years in city etc. until they do prevented/affect.\n",
        "\n",
        "By regulating these above events we can decrease number of attacks in the city."
      ],
      "metadata": {
        "id": "3cspy4FjqxJW"
      }
    },
    {
      "cell_type": "markdown",
      "source": [
        "#### **Chart - 7 - Pair Plot**\n",
        "\n",
        "# Pair plot of prominant variables of Dataset."
      ],
      "metadata": {
        "id": "ZZrOf7J1h2B9"
      }
    },
    {
      "cell_type": "code",
      "source": [
        "# Pair Plot visualization code\n",
        "sns.pairplot(corr_data_df, hue=\"Killed\")"
      ],
      "metadata": {
        "id": "1DsDuugUh8z6"
      },
      "execution_count": null,
      "outputs": []
    },
    {
      "cell_type": "markdown",
      "source": [
        "## **5. Solution to Business Objective**"
      ],
      "metadata": {
        "id": "6I3ZUvzYhrMt"
      }
    },
    {
      "cell_type": "markdown",
      "source": [
        "#### What do you suggest the client to achieve Business Objective ?\n",
        "\n",
        "\n",
        "\n",
        "*   After analyzing the Global Terrorism Dataset through exploratory data analysis, numerous suggestions can be offered to a client aiming to utilize this information for reducing the effects of terrorism and achieving their business goals.\n",
        "\n",
        "*   Concentrate on Areas of High Terrorist Activity: It is crucial to give special attention to regions where terrorist incidents occur frequently. Interventions in these areas should include strengthened security measures, specific socio-economic initiatives to tackle the underlying causes of terrorism, and increased international support.\n",
        "\n",
        "*   Comprehend Annual Patterns: Monitoring the fluctuation of terrorist activities annually can aid in predicting potential upcoming dangers and adapting counter-terrorism approaches accordingly.\n",
        "\n",
        "*   Identifying the prevalent methods of attack employed by terrorists is crucial for creating effective prevention and response plans. For example, if bombings are the predominant type of attack, focusing additional resources on bomb detection and disposal can be highly beneficial.\n",
        "\n",
        "\n",
        "\n",
        "*   Preventing the smuggling of weapons will reduce the number of deaths, as incidents of unarmed assaults, despite their frequency, always result in zero fatalities.\n",
        "\n",
        "*   The number of casualties is heavily influenced by the type of attack.\n",
        "*   To put it differently, since approximately 2006, the number of deaths caused by bombings or explosions has markedly decreased, even though the frequency of such attacks has risen significantly. This decline in fatalities suggests that the preventive measures implemented since 2006 have been successful in achieving their intended purpose.\n",
        "\n",
        "\n",
        "*   In recent years, the number of deaths resulting from assassinations and hostage-taking (kidnappings) has almost equaled the fatalities caused by the most common attack type, bombings and explosions. Despite being less frequent, these assassination and hostage-taking incidents lead to more deaths compared to other types of attacks.\n",
        "\n",
        "*   This situation could influence the creation of policies, disaster readiness, insurance strategies, and healthcare provision. An increasing trend could have negative economic consequences by disrupting population stability, investments, and overall development.\n",
        "\n",
        "*   It presents a bar chart using a countplot format, showing the countries most affected by the top four preferred attack types. These findings are valuable for devising strategies to prevent and counter these specific attacks. If certain attack patterns are widespread, it could signal ineffective measures against these threats.\n"
      ],
      "metadata": {
        "id": "RgcW5GbkhrZ3"
      }
    },
    {
      "cell_type": "markdown",
      "source": [
        "# **Conclusion**"
      ],
      "metadata": {
        "id": "gCX9965dhzqZ"
      }
    },
    {
      "cell_type": "markdown",
      "source": [
        "\n",
        "##### From the first plot it is very noticeable that the terrorism landscape before and after the war on terror is vastly different. Before 2001, the regions were much closer together in terms of activity, eventually all droping to a minimum in 2000. After 2001, the middle east and south asia have dictated the rise in terrorism numbers, with a significant increase in Sub-Saharan Africa as well.\n",
        "\n",
        "#### Insights derived from the above EDA:\n",
        "\n",
        "##### 1.) Attacks has increased but number of people killed manier times as attack happend.\n",
        "##### 2.) Iraq has the most attacks followed by Afganistan and Pakistan an then India.\n",
        "##### 3.) The Middle East and North Africa regions has most targeted.\n",
        "##### 4.) Terrorist are preffering to attack from Bombing/Explosions the most, but the people are dieing from Arm Assalut which is second most attack type at India in recent years.\n",
        "##### 5.) Deaths due to Assasination and Hostage Taking(Kidnaping) is reached near to the deaths occured by the most preffered attack type(bombing/explosion) in recent years.\n",
        "##### 6.) In other words above point can also be described as from around year '2006' deaths due Bombing/Explosion is significantly decreased despite number of attack Bombing/Explosion has increased significantly.\n",
        "##### 7.) Deaths due to Attack Type Unarmed Assault is always being zero irrespective of number of attacks.\n",
        "##### 8.) Highest number of attacks occured in Miidle East and North Africa Region followed by South Asia.\n",
        "\n",
        "\n",
        "\n",
        "The Exploratory Data Analysis (EDA) carried out on the Global Terrorism Dataset yielded valuable insights into global terrorism trends between 1970 and 2017. Utilizing Python libraries such as Pandas, Matplotlib, Seaborn, and NumPy, we managed to process, visualize, and interpret intricate data related to terrorist activities.\n",
        "\n",
        "This analysis enabled us to recognize patterns evolving over time, pinpoint regional hotspots, identify prominent terrorist groups, and understand their preferred methods of attack. These discoveries are pivotal for developing effective counter-terrorism strategies and interventions.\n",
        "\n",
        "The process highlighted the effectiveness of data-driven decision-making. By employing EDA, we transformed raw data into meaningful understandings. For example, recognizing regions prone to terrorist attacks or understanding the activity levels of specific terrorist groups allows security agencies and policymakers to allocate resources more effectively, potentially saving lives and property.\n",
        "\n",
        "Nevertheless, it's essential to acknowledge that combating terrorism requires more than historical data comprehension. It demands a holistic approach encompassing current intelligence, geopolitical factors, and realities on the ground.\n",
        "\n",
        "In summary, this project illustrates the potential of data analysis in shaping counter-terrorism initiatives. It serves as a valuable foundation for further research and action, emphasizing the continuous need for data collection, analysis, and interpretation in addressing global security challenges like terrorism."
      ],
      "metadata": {
        "id": "Fjb1IsQkh3yE"
      }
    },
    {
      "cell_type": "markdown",
      "source": [
        "# **Thank You**"
      ],
      "metadata": {
        "id": "gIfDvo9L0UH2"
      }
    }
  ]
}